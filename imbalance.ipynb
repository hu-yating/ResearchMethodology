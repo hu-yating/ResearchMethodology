{
 "cells": [
  {
   "cell_type": "markdown",
   "metadata": {},
   "source": [
    "# Quantitative exercise\n",
    "By Group 1: Ya Ting Hu & Zhen Tian"
   ]
  },
  {
   "cell_type": "code",
   "execution_count": 1,
   "metadata": {},
   "outputs": [],
   "source": [
    "import warnings\n",
    "warnings.filterwarnings(\"ignore\")\n",
    "\n",
    "# import kaleido\n",
    "import numpy as np\n",
    "import pandas as pd\n",
    "import random\n",
    "import collections\n",
    "import io\n",
    "from sklearn.tree import DecisionTreeClassifier\n",
    "import plotly.express as px\n",
    "\n",
    "from sklearn.metrics import *\n",
    "from imblearn.metrics import *\n",
    "\n",
    "import os\n",
    "\n",
    "if not os.path.exists(\"fig\"):\n",
    "    os.mkdir(\"fig\")"
   ]
  },
  {
   "cell_type": "code",
   "execution_count": 2,
   "metadata": {},
   "outputs": [],
   "source": [
    "random.seed(1234)\n",
    "url = 'https://raw.githubusercontent.com/jbrownlee/Datasets/master/haberman.csv'\n",
    "dataframe = pd.read_csv(url, header=None)\n",
    "dataframe = dataframe.rename(columns={0: \"age\", 1: \"year\", 2:\"nodes\",3:\"survival\"})\n",
    "dataframe[\"survival\"].replace({2:0},inplace=True)\n",
    "values = dataframe.values\n",
    "X, y = values[:, :-1], values[:, -1]\n",
    "\n",
    "report_total = pd.DataFrame()"
   ]
  },
  {
   "cell_type": "code",
   "execution_count": 3,
   "metadata": {
    "tags": []
   },
   "outputs": [],
   "source": [
    "def sample_class_dist(X, y, method=False, strategy=False, verbose=False):\n",
    "    global report_total\n",
    "    \n",
    "    n_rows = X.shape[0]\n",
    "    n_cols = X.shape[1]\n",
    "    classes = np.unique(y)\n",
    "    n_classes = len(classes)\n",
    "    if method and strategy:\n",
    "        print(str(\" \" + strategy + \": \"+ method +\" \").center(80, \"=\"))\n",
    "        \n",
    "    \n",
    "    if verbose == True:\n",
    "        print('N Examples: %d' % n_rows)\n",
    "        print('N Inputs: %d' % n_cols)\n",
    "        print('N Classes: %d' % n_classes)\n",
    "        print('Classes: %s' % classes)\n",
    "    print('Class Breakdown:')\n",
    "\n",
    "    breakdown = ''\n",
    "    class_ = {}\n",
    "    for c in classes:\n",
    "        total = len(y[y == c])\n",
    "        ratio = (total / float(len(y))) * 100\n",
    "        class_[str(c)] = total\n",
    "        print(' - Class %s: %d (%.5f%%)' % (str(c), total, ratio))\n",
    "\n",
    "    # ratio of the number of instances from the negative class and the positive class\n",
    "    try:\n",
    "        print(\"Imbalanced ratio (IR): \", round(y.value_counts()[0]/y.value_counts()[1],2))\n",
    "    except:\n",
    "        print(\"Imbalanced ratio (IR): \", round(collections.Counter(y)[1]/collections.Counter(y)[0],2))\n",
    "\n",
    "    if not verbose:\n",
    "        df_sample = pd.DataFrame(\n",
    "        {\n",
    "            \"strategy\": [strategy]*3,\n",
    "            \"method\":   [method]*3,\n",
    "            \"class\":['0', '1', 'avg / total'],\n",
    "            \"count\":[class_[\"0\"], class_[\"1\"], \"\"],\n",
    "            }\n",
    "        )\n",
    "\n",
    "        df_sample.set_index([\"strategy\",\"class\"], inplace=True)\n",
    "\n",
    "        report_total = pd.concat([report_total, df_sample], axis=0)\n",
    "#         display(report_total)"
   ]
  },
  {
   "cell_type": "code",
   "execution_count": 4,
   "metadata": {},
   "outputs": [
    {
     "name": "stdout",
     "output_type": "stream",
     "text": [
      "N Examples: 306\n",
      "N Inputs: 3\n",
      "N Classes: 2\n",
      "Classes: [0 1]\n",
      "Class Breakdown:\n",
      " - Class 0: 81 (26.47059%)\n",
      " - Class 1: 225 (73.52941%)\n",
      "Imbalanced ratio (IR):  2.78\n"
     ]
    }
   ],
   "source": [
    "sample_class_dist(X,y, verbose=True)"
   ]
  },
  {
   "cell_type": "markdown",
   "metadata": {},
   "source": [
    "# Split 80% 20%"
   ]
  },
  {
   "cell_type": "code",
   "execution_count": 5,
   "metadata": {},
   "outputs": [
    {
     "data": {
      "text/html": [
       "<div>\n",
       "<style scoped>\n",
       "    .dataframe tbody tr th:only-of-type {\n",
       "        vertical-align: middle;\n",
       "    }\n",
       "\n",
       "    .dataframe tbody tr th {\n",
       "        vertical-align: top;\n",
       "    }\n",
       "\n",
       "    .dataframe thead th {\n",
       "        text-align: right;\n",
       "    }\n",
       "</style>\n",
       "<table border=\"1\" class=\"dataframe\">\n",
       "  <thead>\n",
       "    <tr style=\"text-align: right;\">\n",
       "      <th></th>\n",
       "      <th>age</th>\n",
       "      <th>year</th>\n",
       "      <th>nodes</th>\n",
       "      <th>survival</th>\n",
       "    </tr>\n",
       "  </thead>\n",
       "  <tbody>\n",
       "    <tr>\n",
       "      <th>0</th>\n",
       "      <td>30</td>\n",
       "      <td>64</td>\n",
       "      <td>1</td>\n",
       "      <td>1</td>\n",
       "    </tr>\n",
       "    <tr>\n",
       "      <th>1</th>\n",
       "      <td>30</td>\n",
       "      <td>62</td>\n",
       "      <td>3</td>\n",
       "      <td>1</td>\n",
       "    </tr>\n",
       "    <tr>\n",
       "      <th>2</th>\n",
       "      <td>30</td>\n",
       "      <td>65</td>\n",
       "      <td>0</td>\n",
       "      <td>1</td>\n",
       "    </tr>\n",
       "    <tr>\n",
       "      <th>3</th>\n",
       "      <td>31</td>\n",
       "      <td>59</td>\n",
       "      <td>2</td>\n",
       "      <td>1</td>\n",
       "    </tr>\n",
       "    <tr>\n",
       "      <th>4</th>\n",
       "      <td>31</td>\n",
       "      <td>65</td>\n",
       "      <td>4</td>\n",
       "      <td>1</td>\n",
       "    </tr>\n",
       "  </tbody>\n",
       "</table>\n",
       "</div>"
      ],
      "text/plain": [
       "   age  year  nodes  survival\n",
       "0   30    64      1         1\n",
       "1   30    62      3         1\n",
       "2   30    65      0         1\n",
       "3   31    59      2         1\n",
       "4   31    65      4         1"
      ]
     },
     "execution_count": 5,
     "metadata": {},
     "output_type": "execute_result"
    }
   ],
   "source": [
    "dataframe.head()"
   ]
  },
  {
   "cell_type": "code",
   "execution_count": 6,
   "metadata": {},
   "outputs": [],
   "source": [
    "from sklearn.model_selection import train_test_split\n",
    "\n",
    "# defining the dependent and independent variables\n",
    "Xtrain = dataframe.loc[:, dataframe.columns != \"survival\"]\n",
    "ytrain = dataframe[\"survival\"]\n",
    "\n",
    "X_train, X_test, y_train, y_test = train_test_split(Xtrain,ytrain, train_size=0.8, random_state=0)\n",
    "\n",
    "data_dict = {}\n",
    "strategies = []"
   ]
  },
  {
   "cell_type": "markdown",
   "metadata": {},
   "source": [
    "# Original"
   ]
  },
  {
   "cell_type": "code",
   "execution_count": 7,
   "metadata": {},
   "outputs": [
    {
     "name": "stdout",
     "output_type": "stream",
     "text": [
      "============================== Original: Original ==============================\n",
      "Class Breakdown:\n",
      " - Class 0: 56 (22.95082%)\n",
      " - Class 1: 188 (77.04918%)\n",
      "Imbalanced ratio (IR):  0.3\n"
     ]
    }
   ],
   "source": [
    "strategy = \"Original\"\n",
    "X_Original, y_Original = X_train, y_train\n",
    "strategies.append(strategy)\n",
    "data_dict[strategy] = [X_Original, y_Original]\n",
    "sample_class_dist(X_Original, y_Original, method = \"Original\", strategy = strategy)"
   ]
  },
  {
   "cell_type": "markdown",
   "metadata": {},
   "source": [
    "# Undersampling\n"
   ]
  },
  {
   "cell_type": "code",
   "execution_count": 8,
   "metadata": {},
   "outputs": [
    {
     "name": "stdout",
     "output_type": "stream",
     "text": [
      "====================== RandomUnderSampler: Undersampling =======================\n",
      "Class Breakdown:\n",
      " - Class 0: 56 (50.00000%)\n",
      " - Class 1: 56 (50.00000%)\n",
      "Imbalanced ratio (IR):  1.0\n",
      "================ RepeatedEditedNearestNeighbours: Undersampling ================\n",
      "Class Breakdown:\n",
      " - Class 0: 56 (40.87591%)\n",
      " - Class 1: 81 (59.12409%)\n",
      "Imbalanced ratio (IR):  0.69\n",
      "=================== NeighbourhoodCleaningRule: Undersampling ===================\n",
      "Class Breakdown:\n",
      " - Class 0: 56 (28.57143%)\n",
      " - Class 1: 140 (71.42857%)\n",
      "Imbalanced ratio (IR):  0.4\n"
     ]
    }
   ],
   "source": [
    "from imblearn.under_sampling import RandomUnderSampler\n",
    "strategy = \"RandomUnderSampler\"\n",
    "rus = RandomUnderSampler(random_state=0)\n",
    "X_RUS, y_RUS = rus.fit_resample(X_train, y_train)\n",
    "strategies.append(strategy)\n",
    "data_dict[strategy] = [X_RUS, y_RUS]\n",
    "sample_class_dist(X_RUS, y_RUS, method = \"Undersampling\", strategy = strategy)\n",
    "\n",
    "from imblearn.under_sampling import RepeatedEditedNearestNeighbours\n",
    "strategy = \"RepeatedEditedNearestNeighbours\"\n",
    "enn = RepeatedEditedNearestNeighbours()\n",
    "X_ENN_UnderSampled, y_ENN_UnnderSampled = enn.fit_resample(X_train, y_train)\n",
    "strategies.append(strategy)\n",
    "data_dict[strategy] = [X_ENN_UnderSampled, y_ENN_UnnderSampled]\n",
    "sample_class_dist(X_ENN_UnderSampled, y_ENN_UnnderSampled, method = \"Undersampling\", strategy = strategy)\n",
    "\n",
    "from imblearn.under_sampling import NeighbourhoodCleaningRule\n",
    "ncr = NeighbourhoodCleaningRule()\n",
    "strategy = \"NeighbourhoodCleaningRule\"\n",
    "strategies.append(strategy)\n",
    "X_NCR_UnderSampled, y_NCR_UnnderSampled = ncr.fit_resample(X_train, y_train)\n",
    "data_dict[strategy] = [X_NCR_UnderSampled, y_NCR_UnnderSampled]\n",
    "\n",
    "sample_class_dist(X_NCR_UnderSampled, y_NCR_UnnderSampled, method = \"Undersampling\", strategy = strategy)"
   ]
  },
  {
   "cell_type": "markdown",
   "metadata": {},
   "source": [
    "# Oversampling"
   ]
  },
  {
   "cell_type": "code",
   "execution_count": 9,
   "metadata": {},
   "outputs": [
    {
     "name": "stdout",
     "output_type": "stream",
     "text": [
      "======================= RandomOverSampler: Oversampling ========================\n",
      "Class Breakdown:\n",
      " - Class 0: 188 (50.00000%)\n",
      " - Class 1: 188 (50.00000%)\n",
      "Imbalanced ratio (IR):  1.0\n",
      "============================= SMOTEN: Oversampling =============================\n",
      "Class Breakdown:\n",
      " - Class 0: 188 (50.00000%)\n",
      " - Class 1: 188 (50.00000%)\n",
      "Imbalanced ratio (IR):  1.0\n",
      "======================== BorderlineSMOTE: Oversampling =========================\n",
      "Class Breakdown:\n",
      " - Class 0: 188 (50.00000%)\n",
      " - Class 1: 188 (50.00000%)\n",
      "Imbalanced ratio (IR):  1.0\n",
      "========================== KMeansSMOTE: Oversampling ===========================\n",
      "Class Breakdown:\n",
      " - Class 0: 189 (50.13263%)\n",
      " - Class 1: 188 (49.86737%)\n",
      "Imbalanced ratio (IR):  1.01\n",
      "============================ SVMSMOTE: Oversampling ============================\n",
      "Class Breakdown:\n",
      " - Class 0: 188 (50.00000%)\n",
      " - Class 1: 188 (50.00000%)\n",
      "Imbalanced ratio (IR):  1.0\n"
     ]
    }
   ],
   "source": [
    "from imblearn.over_sampling import RandomOverSampler\n",
    "ros = RandomOverSampler(random_state=0)\n",
    "strategy = \"RandomOverSampler\"\n",
    "X_OverSampled, y_OverSampled = ros.fit_resample(X_train, y_train)\n",
    "data_dict[strategy] = [X_OverSampled, y_OverSampled]\n",
    "sample_class_dist(X_OverSampled, y_OverSampled, method = \"Oversampling\", strategy = strategy)\n",
    "\n",
    "from imblearn.over_sampling import SMOTEN\n",
    "sampler = SMOTEN(random_state=0)\n",
    "strategy = \"SMOTEN\"\n",
    "X_SMOTEN, y_SMOTEN = sampler.fit_resample(X_train, y_train)\n",
    "data_dict[strategy] = [X_SMOTEN, y_SMOTEN]\n",
    "sample_class_dist(X_SMOTEN, y_SMOTEN, method = \"Oversampling\", strategy = strategy)\n",
    "\n",
    "from imblearn.over_sampling import BorderlineSMOTE \n",
    "sm = BorderlineSMOTE(random_state=0)\n",
    "strategy = \"BorderlineSMOTE\"\n",
    "X_BSMOTE, y_BSMOTE = sm.fit_resample(X_train, y_train)\n",
    "data_dict[strategy] = [X_BSMOTE, y_BSMOTE]\n",
    "sample_class_dist(X_BSMOTE, y_BSMOTE, method = \"Oversampling\", strategy = strategy)\n",
    "\n",
    "from imblearn.over_sampling import KMeansSMOTE\n",
    "sm = KMeansSMOTE(random_state=0)\n",
    "strategy = \"KMeansSMOTE\"\n",
    "X_KmeansSMOTE, y_KmeansSMOTE = sm.fit_resample(X_train, y_train)\n",
    "data_dict[strategy] = [X_KmeansSMOTE, y_KmeansSMOTE]\n",
    "sample_class_dist(X_KmeansSMOTE, y_KmeansSMOTE, method = \"Oversampling\", strategy = strategy)\n",
    "\n",
    "from imblearn.over_sampling import SVMSMOTE \n",
    "sm = SVMSMOTE(random_state=0)\n",
    "strategy = \"SVMSMOTE\"\n",
    "X_SVMSMOTE, y_SVMSMOTE = sm.fit_resample(X_train, y_train)\n",
    "data_dict[strategy] = [X_SVMSMOTE, y_SVMSMOTE]\n",
    "sample_class_dist(X_SVMSMOTE, y_SVMSMOTE, method = \"Oversampling\", strategy = strategy)"
   ]
  },
  {
   "cell_type": "markdown",
   "metadata": {},
   "source": [
    "# Hybrid"
   ]
  },
  {
   "cell_type": "code",
   "execution_count": 10,
   "metadata": {},
   "outputs": [
    {
     "name": "stdout",
     "output_type": "stream",
     "text": [
      "=============================== SMOTEENN: Hybrid ===============================\n",
      "Class Breakdown:\n",
      " - Class 0: 100 (51.81347%)\n",
      " - Class 1: 93 (48.18653%)\n",
      "Imbalanced ratio (IR):  1.08\n"
     ]
    }
   ],
   "source": [
    "from imblearn.combine import SMOTEENN\n",
    "smote_enn = SMOTEENN(random_state=0)\n",
    "strategy = \"SMOTEENN\"\n",
    "X_Hybrid_SMOTEENN, y_Hybrid_SMOTEENN = smote_enn.fit_resample(X_train, y_train)\n",
    "data_dict[strategy] = [X_Hybrid_SMOTEENN, y_Hybrid_SMOTEENN]\n",
    "sample_class_dist(X_Hybrid_SMOTEENN, y_Hybrid_SMOTEENN, method = \"Hybrid\", strategy = strategy)"
   ]
  },
  {
   "cell_type": "code",
   "execution_count": 11,
   "metadata": {},
   "outputs": [],
   "source": [
    "report_ = pd.DataFrame()\n",
    "for sampling_strategy in data_dict.keys():\n",
    "    clf = DecisionTreeClassifier(random_state=0)\n",
    "    y_pred = clf.fit(data_dict[sampling_strategy][0], data_dict[sampling_strategy][1]).predict(X_test)\n",
    "    \n",
    "    report_str = classification_report_imbalanced(y_test, y_pred)\n",
    "    df_report = pd.read_csv(io.StringIO(report_str),sep=\"      \")\n",
    "    df_report[\"roc_score\"] = roc_auc_score(y_test, clf.predict_proba(X_test)[:, 1])\n",
    "    df_report[\"sampling_strategy\"] = sampling_strategy\n",
    "    df_report.reset_index(inplace=True)\n",
    "    df_report = df_report.rename({\"index\":\"class\"},axis=1)\n",
    "    df_report.set_index([\"sampling_strategy\", \"class\"], inplace=True)\n",
    "#     print(sampling_strategy)\n",
    "#     display(df_report)\n",
    "    report_ = pd.concat([df_report,report_],axis=0)\n",
    "report_total = pd.concat([report_,report_total],axis=1)"
   ]
  },
  {
   "cell_type": "code",
   "execution_count": 12,
   "metadata": {},
   "outputs": [
    {
     "data": {
      "text/html": [
       "<div>\n",
       "<style scoped>\n",
       "    .dataframe tbody tr th:only-of-type {\n",
       "        vertical-align: middle;\n",
       "    }\n",
       "\n",
       "    .dataframe tbody tr th {\n",
       "        vertical-align: top;\n",
       "    }\n",
       "\n",
       "    .dataframe thead th {\n",
       "        text-align: right;\n",
       "    }\n",
       "</style>\n",
       "<table border=\"1\" class=\"dataframe\">\n",
       "  <thead>\n",
       "    <tr style=\"text-align: right;\">\n",
       "      <th></th>\n",
       "      <th></th>\n",
       "      <th>pre</th>\n",
       "      <th>rec</th>\n",
       "      <th>spe</th>\n",
       "      <th>f1</th>\n",
       "      <th>geo</th>\n",
       "      <th>iba</th>\n",
       "      <th>sup</th>\n",
       "      <th>roc_score</th>\n",
       "      <th>method</th>\n",
       "      <th>count</th>\n",
       "    </tr>\n",
       "    <tr>\n",
       "      <th></th>\n",
       "      <th>class</th>\n",
       "      <th></th>\n",
       "      <th></th>\n",
       "      <th></th>\n",
       "      <th></th>\n",
       "      <th></th>\n",
       "      <th></th>\n",
       "      <th></th>\n",
       "      <th></th>\n",
       "      <th></th>\n",
       "      <th></th>\n",
       "    </tr>\n",
       "  </thead>\n",
       "  <tbody>\n",
       "    <tr>\n",
       "      <th rowspan=\"3\" valign=\"top\">RepeatedEditedNearestNeighbours</th>\n",
       "      <th>0</th>\n",
       "      <td>0.53</td>\n",
       "      <td>0.76</td>\n",
       "      <td>0.54</td>\n",
       "      <td>0.62</td>\n",
       "      <td>0.64</td>\n",
       "      <td>0.42</td>\n",
       "      <td>25</td>\n",
       "      <td>0.650270</td>\n",
       "      <td>Undersampling</td>\n",
       "      <td>56</td>\n",
       "    </tr>\n",
       "    <tr>\n",
       "      <th>1</th>\n",
       "      <td>0.77</td>\n",
       "      <td>0.54</td>\n",
       "      <td>0.76</td>\n",
       "      <td>0.63</td>\n",
       "      <td>0.64</td>\n",
       "      <td>0.40</td>\n",
       "      <td>37</td>\n",
       "      <td>0.650270</td>\n",
       "      <td>Undersampling</td>\n",
       "      <td>81</td>\n",
       "    </tr>\n",
       "    <tr>\n",
       "      <th>avg / total</th>\n",
       "      <td>0.67</td>\n",
       "      <td>0.63</td>\n",
       "      <td>0.67</td>\n",
       "      <td>0.63</td>\n",
       "      <td>0.64</td>\n",
       "      <td>0.41</td>\n",
       "      <td>62</td>\n",
       "      <td>0.650270</td>\n",
       "      <td>Undersampling</td>\n",
       "      <td></td>\n",
       "    </tr>\n",
       "    <tr>\n",
       "      <th rowspan=\"3\" valign=\"top\">RandomUnderSampler</th>\n",
       "      <th>0</th>\n",
       "      <td>0.52</td>\n",
       "      <td>0.60</td>\n",
       "      <td>0.62</td>\n",
       "      <td>0.56</td>\n",
       "      <td>0.61</td>\n",
       "      <td>0.37</td>\n",
       "      <td>25</td>\n",
       "      <td>0.611351</td>\n",
       "      <td>Undersampling</td>\n",
       "      <td>56</td>\n",
       "    </tr>\n",
       "    <tr>\n",
       "      <th>1</th>\n",
       "      <td>0.70</td>\n",
       "      <td>0.62</td>\n",
       "      <td>0.60</td>\n",
       "      <td>0.66</td>\n",
       "      <td>0.61</td>\n",
       "      <td>0.37</td>\n",
       "      <td>37</td>\n",
       "      <td>0.611351</td>\n",
       "      <td>Undersampling</td>\n",
       "      <td>56</td>\n",
       "    </tr>\n",
       "    <tr>\n",
       "      <th>avg / total</th>\n",
       "      <td>0.62</td>\n",
       "      <td>0.61</td>\n",
       "      <td>0.61</td>\n",
       "      <td>0.62</td>\n",
       "      <td>0.61</td>\n",
       "      <td>0.37</td>\n",
       "      <td>62</td>\n",
       "      <td>0.611351</td>\n",
       "      <td>Undersampling</td>\n",
       "      <td></td>\n",
       "    </tr>\n",
       "    <tr>\n",
       "      <th rowspan=\"3\" valign=\"top\">NeighbourhoodCleaningRule</th>\n",
       "      <th>0</th>\n",
       "      <td>0.54</td>\n",
       "      <td>0.52</td>\n",
       "      <td>0.70</td>\n",
       "      <td>0.53</td>\n",
       "      <td>0.60</td>\n",
       "      <td>0.36</td>\n",
       "      <td>25</td>\n",
       "      <td>0.611351</td>\n",
       "      <td>Undersampling</td>\n",
       "      <td>56</td>\n",
       "    </tr>\n",
       "    <tr>\n",
       "      <th>1</th>\n",
       "      <td>0.68</td>\n",
       "      <td>0.70</td>\n",
       "      <td>0.52</td>\n",
       "      <td>0.69</td>\n",
       "      <td>0.60</td>\n",
       "      <td>0.37</td>\n",
       "      <td>37</td>\n",
       "      <td>0.611351</td>\n",
       "      <td>Undersampling</td>\n",
       "      <td>140</td>\n",
       "    </tr>\n",
       "    <tr>\n",
       "      <th>avg / total</th>\n",
       "      <td>0.63</td>\n",
       "      <td>0.63</td>\n",
       "      <td>0.59</td>\n",
       "      <td>0.63</td>\n",
       "      <td>0.60</td>\n",
       "      <td>0.37</td>\n",
       "      <td>62</td>\n",
       "      <td>0.611351</td>\n",
       "      <td>Undersampling</td>\n",
       "      <td></td>\n",
       "    </tr>\n",
       "    <tr>\n",
       "      <th rowspan=\"3\" valign=\"top\">KMeansSMOTE</th>\n",
       "      <th>0</th>\n",
       "      <td>0.50</td>\n",
       "      <td>0.32</td>\n",
       "      <td>0.78</td>\n",
       "      <td>0.39</td>\n",
       "      <td>0.50</td>\n",
       "      <td>0.24</td>\n",
       "      <td>25</td>\n",
       "      <td>0.551892</td>\n",
       "      <td>Oversampling</td>\n",
       "      <td>189</td>\n",
       "    </tr>\n",
       "    <tr>\n",
       "      <th>1</th>\n",
       "      <td>0.63</td>\n",
       "      <td>0.78</td>\n",
       "      <td>0.32</td>\n",
       "      <td>0.70</td>\n",
       "      <td>0.50</td>\n",
       "      <td>0.26</td>\n",
       "      <td>37</td>\n",
       "      <td>0.551892</td>\n",
       "      <td>Oversampling</td>\n",
       "      <td>188</td>\n",
       "    </tr>\n",
       "    <tr>\n",
       "      <th>avg / total</th>\n",
       "      <td>0.58</td>\n",
       "      <td>0.60</td>\n",
       "      <td>0.51</td>\n",
       "      <td>0.57</td>\n",
       "      <td>0.50</td>\n",
       "      <td>0.25</td>\n",
       "      <td>62</td>\n",
       "      <td>0.551892</td>\n",
       "      <td>Oversampling</td>\n",
       "      <td></td>\n",
       "    </tr>\n",
       "    <tr>\n",
       "      <th rowspan=\"3\" valign=\"top\">BorderlineSMOTE</th>\n",
       "      <th>0</th>\n",
       "      <td>0.42</td>\n",
       "      <td>0.32</td>\n",
       "      <td>0.70</td>\n",
       "      <td>0.36</td>\n",
       "      <td>0.47</td>\n",
       "      <td>0.22</td>\n",
       "      <td>25</td>\n",
       "      <td>0.510270</td>\n",
       "      <td>Oversampling</td>\n",
       "      <td>188</td>\n",
       "    </tr>\n",
       "    <tr>\n",
       "      <th>1</th>\n",
       "      <td>0.60</td>\n",
       "      <td>0.70</td>\n",
       "      <td>0.32</td>\n",
       "      <td>0.65</td>\n",
       "      <td>0.47</td>\n",
       "      <td>0.23</td>\n",
       "      <td>37</td>\n",
       "      <td>0.510270</td>\n",
       "      <td>Oversampling</td>\n",
       "      <td>188</td>\n",
       "    </tr>\n",
       "    <tr>\n",
       "      <th>avg / total</th>\n",
       "      <td>0.53</td>\n",
       "      <td>0.55</td>\n",
       "      <td>0.47</td>\n",
       "      <td>0.53</td>\n",
       "      <td>0.47</td>\n",
       "      <td>0.23</td>\n",
       "      <td>62</td>\n",
       "      <td>0.510270</td>\n",
       "      <td>Oversampling</td>\n",
       "      <td></td>\n",
       "    </tr>\n",
       "    <tr>\n",
       "      <th rowspan=\"3\" valign=\"top\">RandomOverSampler</th>\n",
       "      <th>0</th>\n",
       "      <td>0.42</td>\n",
       "      <td>0.20</td>\n",
       "      <td>0.81</td>\n",
       "      <td>0.27</td>\n",
       "      <td>0.40</td>\n",
       "      <td>0.15</td>\n",
       "      <td>25</td>\n",
       "      <td>0.505405</td>\n",
       "      <td>Oversampling</td>\n",
       "      <td>188</td>\n",
       "    </tr>\n",
       "    <tr>\n",
       "      <th>1</th>\n",
       "      <td>0.60</td>\n",
       "      <td>0.81</td>\n",
       "      <td>0.20</td>\n",
       "      <td>0.69</td>\n",
       "      <td>0.40</td>\n",
       "      <td>0.17</td>\n",
       "      <td>37</td>\n",
       "      <td>0.505405</td>\n",
       "      <td>Oversampling</td>\n",
       "      <td>188</td>\n",
       "    </tr>\n",
       "    <tr>\n",
       "      <th>avg / total</th>\n",
       "      <td>0.53</td>\n",
       "      <td>0.56</td>\n",
       "      <td>0.45</td>\n",
       "      <td>0.52</td>\n",
       "      <td>0.40</td>\n",
       "      <td>0.16</td>\n",
       "      <td>62</td>\n",
       "      <td>0.505405</td>\n",
       "      <td>Oversampling</td>\n",
       "      <td></td>\n",
       "    </tr>\n",
       "    <tr>\n",
       "      <th rowspan=\"3\" valign=\"top\">SVMSMOTE</th>\n",
       "      <th>0</th>\n",
       "      <td>0.40</td>\n",
       "      <td>0.24</td>\n",
       "      <td>0.76</td>\n",
       "      <td>0.30</td>\n",
       "      <td>0.43</td>\n",
       "      <td>0.17</td>\n",
       "      <td>25</td>\n",
       "      <td>0.498378</td>\n",
       "      <td>Oversampling</td>\n",
       "      <td>188</td>\n",
       "    </tr>\n",
       "    <tr>\n",
       "      <th>1</th>\n",
       "      <td>0.60</td>\n",
       "      <td>0.76</td>\n",
       "      <td>0.24</td>\n",
       "      <td>0.67</td>\n",
       "      <td>0.43</td>\n",
       "      <td>0.19</td>\n",
       "      <td>37</td>\n",
       "      <td>0.498378</td>\n",
       "      <td>Oversampling</td>\n",
       "      <td>188</td>\n",
       "    </tr>\n",
       "    <tr>\n",
       "      <th>avg / total</th>\n",
       "      <td>0.52</td>\n",
       "      <td>0.55</td>\n",
       "      <td>0.45</td>\n",
       "      <td>0.52</td>\n",
       "      <td>0.43</td>\n",
       "      <td>0.18</td>\n",
       "      <td>62</td>\n",
       "      <td>0.498378</td>\n",
       "      <td>Oversampling</td>\n",
       "      <td></td>\n",
       "    </tr>\n",
       "    <tr>\n",
       "      <th rowspan=\"3\" valign=\"top\">SMOTEN</th>\n",
       "      <th>0</th>\n",
       "      <td>0.25</td>\n",
       "      <td>0.16</td>\n",
       "      <td>0.68</td>\n",
       "      <td>0.20</td>\n",
       "      <td>0.33</td>\n",
       "      <td>0.10</td>\n",
       "      <td>25</td>\n",
       "      <td>0.417838</td>\n",
       "      <td>Oversampling</td>\n",
       "      <td>188</td>\n",
       "    </tr>\n",
       "    <tr>\n",
       "      <th>1</th>\n",
       "      <td>0.54</td>\n",
       "      <td>0.68</td>\n",
       "      <td>0.16</td>\n",
       "      <td>0.60</td>\n",
       "      <td>0.33</td>\n",
       "      <td>0.11</td>\n",
       "      <td>37</td>\n",
       "      <td>0.417838</td>\n",
       "      <td>Oversampling</td>\n",
       "      <td>188</td>\n",
       "    </tr>\n",
       "    <tr>\n",
       "      <th>avg / total</th>\n",
       "      <td>0.43</td>\n",
       "      <td>0.47</td>\n",
       "      <td>0.37</td>\n",
       "      <td>0.44</td>\n",
       "      <td>0.33</td>\n",
       "      <td>0.11</td>\n",
       "      <td>62</td>\n",
       "      <td>0.417838</td>\n",
       "      <td>Oversampling</td>\n",
       "      <td></td>\n",
       "    </tr>\n",
       "    <tr>\n",
       "      <th rowspan=\"3\" valign=\"top\">Original</th>\n",
       "      <th>0</th>\n",
       "      <td>0.53</td>\n",
       "      <td>0.40</td>\n",
       "      <td>0.76</td>\n",
       "      <td>0.45</td>\n",
       "      <td>0.55</td>\n",
       "      <td>0.29</td>\n",
       "      <td>25</td>\n",
       "      <td>0.578378</td>\n",
       "      <td>Original</td>\n",
       "      <td>56</td>\n",
       "    </tr>\n",
       "    <tr>\n",
       "      <th>1</th>\n",
       "      <td>0.65</td>\n",
       "      <td>0.76</td>\n",
       "      <td>0.40</td>\n",
       "      <td>0.70</td>\n",
       "      <td>0.55</td>\n",
       "      <td>0.31</td>\n",
       "      <td>37</td>\n",
       "      <td>0.578378</td>\n",
       "      <td>Original</td>\n",
       "      <td>188</td>\n",
       "    </tr>\n",
       "    <tr>\n",
       "      <th>avg / total</th>\n",
       "      <td>0.60</td>\n",
       "      <td>0.61</td>\n",
       "      <td>0.54</td>\n",
       "      <td>0.60</td>\n",
       "      <td>0.55</td>\n",
       "      <td>0.30</td>\n",
       "      <td>62</td>\n",
       "      <td>0.578378</td>\n",
       "      <td>Original</td>\n",
       "      <td></td>\n",
       "    </tr>\n",
       "    <tr>\n",
       "      <th rowspan=\"3\" valign=\"top\">SMOTEENN</th>\n",
       "      <th>0</th>\n",
       "      <td>0.54</td>\n",
       "      <td>0.52</td>\n",
       "      <td>0.70</td>\n",
       "      <td>0.53</td>\n",
       "      <td>0.60</td>\n",
       "      <td>0.36</td>\n",
       "      <td>25</td>\n",
       "      <td>0.611351</td>\n",
       "      <td>Hybrid</td>\n",
       "      <td>100</td>\n",
       "    </tr>\n",
       "    <tr>\n",
       "      <th>1</th>\n",
       "      <td>0.68</td>\n",
       "      <td>0.70</td>\n",
       "      <td>0.52</td>\n",
       "      <td>0.69</td>\n",
       "      <td>0.60</td>\n",
       "      <td>0.37</td>\n",
       "      <td>37</td>\n",
       "      <td>0.611351</td>\n",
       "      <td>Hybrid</td>\n",
       "      <td>93</td>\n",
       "    </tr>\n",
       "    <tr>\n",
       "      <th>avg / total</th>\n",
       "      <td>0.63</td>\n",
       "      <td>0.63</td>\n",
       "      <td>0.59</td>\n",
       "      <td>0.63</td>\n",
       "      <td>0.60</td>\n",
       "      <td>0.37</td>\n",
       "      <td>62</td>\n",
       "      <td>0.611351</td>\n",
       "      <td>Hybrid</td>\n",
       "      <td></td>\n",
       "    </tr>\n",
       "  </tbody>\n",
       "</table>\n",
       "</div>"
      ],
      "text/plain": [
       "                                              pre   rec   spe    f1   geo  \\\n",
       "                                class                                       \n",
       "RepeatedEditedNearestNeighbours 0            0.53  0.76  0.54  0.62  0.64   \n",
       "                                1            0.77  0.54  0.76  0.63  0.64   \n",
       "                                avg / total  0.67  0.63  0.67  0.63  0.64   \n",
       "RandomUnderSampler              0            0.52  0.60  0.62  0.56  0.61   \n",
       "                                1            0.70  0.62  0.60  0.66  0.61   \n",
       "                                avg / total  0.62  0.61  0.61  0.62  0.61   \n",
       "NeighbourhoodCleaningRule       0            0.54  0.52  0.70  0.53  0.60   \n",
       "                                1            0.68  0.70  0.52  0.69  0.60   \n",
       "                                avg / total  0.63  0.63  0.59  0.63  0.60   \n",
       "KMeansSMOTE                     0            0.50  0.32  0.78  0.39  0.50   \n",
       "                                1            0.63  0.78  0.32  0.70  0.50   \n",
       "                                avg / total  0.58  0.60  0.51  0.57  0.50   \n",
       "BorderlineSMOTE                 0            0.42  0.32  0.70  0.36  0.47   \n",
       "                                1            0.60  0.70  0.32  0.65  0.47   \n",
       "                                avg / total  0.53  0.55  0.47  0.53  0.47   \n",
       "RandomOverSampler               0            0.42  0.20  0.81  0.27  0.40   \n",
       "                                1            0.60  0.81  0.20  0.69  0.40   \n",
       "                                avg / total  0.53  0.56  0.45  0.52  0.40   \n",
       "SVMSMOTE                        0            0.40  0.24  0.76  0.30  0.43   \n",
       "                                1            0.60  0.76  0.24  0.67  0.43   \n",
       "                                avg / total  0.52  0.55  0.45  0.52  0.43   \n",
       "SMOTEN                          0            0.25  0.16  0.68  0.20  0.33   \n",
       "                                1            0.54  0.68  0.16  0.60  0.33   \n",
       "                                avg / total  0.43  0.47  0.37  0.44  0.33   \n",
       "Original                        0            0.53  0.40  0.76  0.45  0.55   \n",
       "                                1            0.65  0.76  0.40  0.70  0.55   \n",
       "                                avg / total  0.60  0.61  0.54  0.60  0.55   \n",
       "SMOTEENN                        0            0.54  0.52  0.70  0.53  0.60   \n",
       "                                1            0.68  0.70  0.52  0.69  0.60   \n",
       "                                avg / total  0.63  0.63  0.59  0.63  0.60   \n",
       "\n",
       "                                              iba   sup  roc_score  \\\n",
       "                                class                                \n",
       "RepeatedEditedNearestNeighbours 0            0.42    25   0.650270   \n",
       "                                1            0.40    37   0.650270   \n",
       "                                avg / total  0.41    62   0.650270   \n",
       "RandomUnderSampler              0            0.37    25   0.611351   \n",
       "                                1            0.37    37   0.611351   \n",
       "                                avg / total  0.37    62   0.611351   \n",
       "NeighbourhoodCleaningRule       0            0.36    25   0.611351   \n",
       "                                1            0.37    37   0.611351   \n",
       "                                avg / total  0.37    62   0.611351   \n",
       "KMeansSMOTE                     0            0.24    25   0.551892   \n",
       "                                1            0.26    37   0.551892   \n",
       "                                avg / total  0.25    62   0.551892   \n",
       "BorderlineSMOTE                 0            0.22    25   0.510270   \n",
       "                                1            0.23    37   0.510270   \n",
       "                                avg / total  0.23    62   0.510270   \n",
       "RandomOverSampler               0            0.15    25   0.505405   \n",
       "                                1            0.17    37   0.505405   \n",
       "                                avg / total  0.16    62   0.505405   \n",
       "SVMSMOTE                        0            0.17    25   0.498378   \n",
       "                                1            0.19    37   0.498378   \n",
       "                                avg / total  0.18    62   0.498378   \n",
       "SMOTEN                          0            0.10    25   0.417838   \n",
       "                                1            0.11    37   0.417838   \n",
       "                                avg / total  0.11    62   0.417838   \n",
       "Original                        0            0.29    25   0.578378   \n",
       "                                1            0.31    37   0.578378   \n",
       "                                avg / total  0.30    62   0.578378   \n",
       "SMOTEENN                        0            0.36    25   0.611351   \n",
       "                                1            0.37    37   0.611351   \n",
       "                                avg / total  0.37    62   0.611351   \n",
       "\n",
       "                                                    method count  \n",
       "                                class                             \n",
       "RepeatedEditedNearestNeighbours 0            Undersampling    56  \n",
       "                                1            Undersampling    81  \n",
       "                                avg / total  Undersampling        \n",
       "RandomUnderSampler              0            Undersampling    56  \n",
       "                                1            Undersampling    56  \n",
       "                                avg / total  Undersampling        \n",
       "NeighbourhoodCleaningRule       0            Undersampling    56  \n",
       "                                1            Undersampling   140  \n",
       "                                avg / total  Undersampling        \n",
       "KMeansSMOTE                     0             Oversampling   189  \n",
       "                                1             Oversampling   188  \n",
       "                                avg / total   Oversampling        \n",
       "BorderlineSMOTE                 0             Oversampling   188  \n",
       "                                1             Oversampling   188  \n",
       "                                avg / total   Oversampling        \n",
       "RandomOverSampler               0             Oversampling   188  \n",
       "                                1             Oversampling   188  \n",
       "                                avg / total   Oversampling        \n",
       "SVMSMOTE                        0             Oversampling   188  \n",
       "                                1             Oversampling   188  \n",
       "                                avg / total   Oversampling        \n",
       "SMOTEN                          0             Oversampling   188  \n",
       "                                1             Oversampling   188  \n",
       "                                avg / total   Oversampling        \n",
       "Original                        0                 Original    56  \n",
       "                                1                 Original   188  \n",
       "                                avg / total       Original        \n",
       "SMOTEENN                        0                   Hybrid   100  \n",
       "                                1                   Hybrid    93  \n",
       "                                avg / total         Hybrid        "
      ]
     },
     "execution_count": 12,
     "metadata": {},
     "output_type": "execute_result"
    }
   ],
   "source": [
    "#Text summary of the precision, recall, specificity, geometric mean, and index balanced accuracy    \n",
    "#https://imbalanced-learn.org/stable/references/generated/imblearn.metrics.classification_report_imbalanced.html#imblearn.metrics.classification_report_imbalanced\n",
    "\n",
    "report_total.sort_values([\"method\",\"roc_score\"], ascending=False)"
   ]
  },
  {
   "cell_type": "code",
   "execution_count": 20,
   "metadata": {},
   "outputs": [
    {
     "data": {
      "application/vnd.plotly.v1+json": {
       "config": {
        "plotlyServerURL": "https://plot.ly"
       },
       "data": [
        {
         "alignmentgroup": "True",
         "hovertemplate": "method=Undersampling<br>level_0=%{x}<br>roc_score=%{text}<extra></extra>",
         "legendgroup": "Undersampling",
         "marker": {
          "color": "#636efa",
          "pattern": {
           "shape": ""
          }
         },
         "name": "Undersampling",
         "offsetgroup": "Undersampling",
         "orientation": "v",
         "showlegend": true,
         "text": [
          0.65,
          0.611,
          0.611
         ],
         "textposition": "auto",
         "type": "bar",
         "x": [
          "RepeatedEditedNearestNeighbours",
          "RandomUnderSampler",
          "NeighbourhoodCleaningRule"
         ],
         "xaxis": "x",
         "y": [
          0.65,
          0.611,
          0.611
         ],
         "yaxis": "y"
        },
        {
         "alignmentgroup": "True",
         "hovertemplate": "method=Hybrid<br>level_0=%{x}<br>roc_score=%{text}<extra></extra>",
         "legendgroup": "Hybrid",
         "marker": {
          "color": "#EF553B",
          "pattern": {
           "shape": ""
          }
         },
         "name": "Hybrid",
         "offsetgroup": "Hybrid",
         "orientation": "v",
         "showlegend": true,
         "text": [
          0.611
         ],
         "textposition": "auto",
         "type": "bar",
         "x": [
          "SMOTEENN"
         ],
         "xaxis": "x",
         "y": [
          0.611
         ],
         "yaxis": "y"
        },
        {
         "alignmentgroup": "True",
         "hovertemplate": "method=Original<br>level_0=%{x}<br>roc_score=%{text}<extra></extra>",
         "legendgroup": "Original",
         "marker": {
          "color": "#00cc96",
          "pattern": {
           "shape": ""
          }
         },
         "name": "Original",
         "offsetgroup": "Original",
         "orientation": "v",
         "showlegend": true,
         "text": [
          0.578
         ],
         "textposition": "auto",
         "type": "bar",
         "x": [
          "Original"
         ],
         "xaxis": "x",
         "y": [
          0.578
         ],
         "yaxis": "y"
        },
        {
         "alignmentgroup": "True",
         "hovertemplate": "method=Oversampling<br>level_0=%{x}<br>roc_score=%{text}<extra></extra>",
         "legendgroup": "Oversampling",
         "marker": {
          "color": "#ab63fa",
          "pattern": {
           "shape": ""
          }
         },
         "name": "Oversampling",
         "offsetgroup": "Oversampling",
         "orientation": "v",
         "showlegend": true,
         "text": [
          0.552,
          0.51,
          0.505,
          0.498,
          0.418
         ],
         "textposition": "auto",
         "type": "bar",
         "x": [
          "KMeansSMOTE",
          "BorderlineSMOTE",
          "RandomOverSampler",
          "SVMSMOTE",
          "SMOTEN"
         ],
         "xaxis": "x",
         "y": [
          0.552,
          0.51,
          0.505,
          0.498,
          0.418
         ],
         "yaxis": "y"
        }
       ],
       "layout": {
        "autosize": true,
        "barmode": "relative",
        "legend": {
         "title": {
          "text": "Sampling Method"
         },
         "tracegroupgap": 0
        },
        "margin": {
         "t": 60
        },
        "template": {
         "data": {
          "bar": [
           {
            "error_x": {
             "color": "#2a3f5f"
            },
            "error_y": {
             "color": "#2a3f5f"
            },
            "marker": {
             "line": {
              "color": "#E5ECF6",
              "width": 0.5
             },
             "pattern": {
              "fillmode": "overlay",
              "size": 10,
              "solidity": 0.2
             }
            },
            "type": "bar"
           }
          ],
          "barpolar": [
           {
            "marker": {
             "line": {
              "color": "#E5ECF6",
              "width": 0.5
             },
             "pattern": {
              "fillmode": "overlay",
              "size": 10,
              "solidity": 0.2
             }
            },
            "type": "barpolar"
           }
          ],
          "carpet": [
           {
            "aaxis": {
             "endlinecolor": "#2a3f5f",
             "gridcolor": "white",
             "linecolor": "white",
             "minorgridcolor": "white",
             "startlinecolor": "#2a3f5f"
            },
            "baxis": {
             "endlinecolor": "#2a3f5f",
             "gridcolor": "white",
             "linecolor": "white",
             "minorgridcolor": "white",
             "startlinecolor": "#2a3f5f"
            },
            "type": "carpet"
           }
          ],
          "choropleth": [
           {
            "colorbar": {
             "outlinewidth": 0,
             "ticks": ""
            },
            "type": "choropleth"
           }
          ],
          "contour": [
           {
            "colorbar": {
             "outlinewidth": 0,
             "ticks": ""
            },
            "colorscale": [
             [
              0,
              "#0d0887"
             ],
             [
              0.1111111111111111,
              "#46039f"
             ],
             [
              0.2222222222222222,
              "#7201a8"
             ],
             [
              0.3333333333333333,
              "#9c179e"
             ],
             [
              0.4444444444444444,
              "#bd3786"
             ],
             [
              0.5555555555555556,
              "#d8576b"
             ],
             [
              0.6666666666666666,
              "#ed7953"
             ],
             [
              0.7777777777777778,
              "#fb9f3a"
             ],
             [
              0.8888888888888888,
              "#fdca26"
             ],
             [
              1,
              "#f0f921"
             ]
            ],
            "type": "contour"
           }
          ],
          "contourcarpet": [
           {
            "colorbar": {
             "outlinewidth": 0,
             "ticks": ""
            },
            "type": "contourcarpet"
           }
          ],
          "heatmap": [
           {
            "colorbar": {
             "outlinewidth": 0,
             "ticks": ""
            },
            "colorscale": [
             [
              0,
              "#0d0887"
             ],
             [
              0.1111111111111111,
              "#46039f"
             ],
             [
              0.2222222222222222,
              "#7201a8"
             ],
             [
              0.3333333333333333,
              "#9c179e"
             ],
             [
              0.4444444444444444,
              "#bd3786"
             ],
             [
              0.5555555555555556,
              "#d8576b"
             ],
             [
              0.6666666666666666,
              "#ed7953"
             ],
             [
              0.7777777777777778,
              "#fb9f3a"
             ],
             [
              0.8888888888888888,
              "#fdca26"
             ],
             [
              1,
              "#f0f921"
             ]
            ],
            "type": "heatmap"
           }
          ],
          "heatmapgl": [
           {
            "colorbar": {
             "outlinewidth": 0,
             "ticks": ""
            },
            "colorscale": [
             [
              0,
              "#0d0887"
             ],
             [
              0.1111111111111111,
              "#46039f"
             ],
             [
              0.2222222222222222,
              "#7201a8"
             ],
             [
              0.3333333333333333,
              "#9c179e"
             ],
             [
              0.4444444444444444,
              "#bd3786"
             ],
             [
              0.5555555555555556,
              "#d8576b"
             ],
             [
              0.6666666666666666,
              "#ed7953"
             ],
             [
              0.7777777777777778,
              "#fb9f3a"
             ],
             [
              0.8888888888888888,
              "#fdca26"
             ],
             [
              1,
              "#f0f921"
             ]
            ],
            "type": "heatmapgl"
           }
          ],
          "histogram": [
           {
            "marker": {
             "pattern": {
              "fillmode": "overlay",
              "size": 10,
              "solidity": 0.2
             }
            },
            "type": "histogram"
           }
          ],
          "histogram2d": [
           {
            "colorbar": {
             "outlinewidth": 0,
             "ticks": ""
            },
            "colorscale": [
             [
              0,
              "#0d0887"
             ],
             [
              0.1111111111111111,
              "#46039f"
             ],
             [
              0.2222222222222222,
              "#7201a8"
             ],
             [
              0.3333333333333333,
              "#9c179e"
             ],
             [
              0.4444444444444444,
              "#bd3786"
             ],
             [
              0.5555555555555556,
              "#d8576b"
             ],
             [
              0.6666666666666666,
              "#ed7953"
             ],
             [
              0.7777777777777778,
              "#fb9f3a"
             ],
             [
              0.8888888888888888,
              "#fdca26"
             ],
             [
              1,
              "#f0f921"
             ]
            ],
            "type": "histogram2d"
           }
          ],
          "histogram2dcontour": [
           {
            "colorbar": {
             "outlinewidth": 0,
             "ticks": ""
            },
            "colorscale": [
             [
              0,
              "#0d0887"
             ],
             [
              0.1111111111111111,
              "#46039f"
             ],
             [
              0.2222222222222222,
              "#7201a8"
             ],
             [
              0.3333333333333333,
              "#9c179e"
             ],
             [
              0.4444444444444444,
              "#bd3786"
             ],
             [
              0.5555555555555556,
              "#d8576b"
             ],
             [
              0.6666666666666666,
              "#ed7953"
             ],
             [
              0.7777777777777778,
              "#fb9f3a"
             ],
             [
              0.8888888888888888,
              "#fdca26"
             ],
             [
              1,
              "#f0f921"
             ]
            ],
            "type": "histogram2dcontour"
           }
          ],
          "mesh3d": [
           {
            "colorbar": {
             "outlinewidth": 0,
             "ticks": ""
            },
            "type": "mesh3d"
           }
          ],
          "parcoords": [
           {
            "line": {
             "colorbar": {
              "outlinewidth": 0,
              "ticks": ""
             }
            },
            "type": "parcoords"
           }
          ],
          "pie": [
           {
            "automargin": true,
            "type": "pie"
           }
          ],
          "scatter": [
           {
            "marker": {
             "colorbar": {
              "outlinewidth": 0,
              "ticks": ""
             }
            },
            "type": "scatter"
           }
          ],
          "scatter3d": [
           {
            "line": {
             "colorbar": {
              "outlinewidth": 0,
              "ticks": ""
             }
            },
            "marker": {
             "colorbar": {
              "outlinewidth": 0,
              "ticks": ""
             }
            },
            "type": "scatter3d"
           }
          ],
          "scattercarpet": [
           {
            "marker": {
             "colorbar": {
              "outlinewidth": 0,
              "ticks": ""
             }
            },
            "type": "scattercarpet"
           }
          ],
          "scattergeo": [
           {
            "marker": {
             "colorbar": {
              "outlinewidth": 0,
              "ticks": ""
             }
            },
            "type": "scattergeo"
           }
          ],
          "scattergl": [
           {
            "marker": {
             "colorbar": {
              "outlinewidth": 0,
              "ticks": ""
             }
            },
            "type": "scattergl"
           }
          ],
          "scattermapbox": [
           {
            "marker": {
             "colorbar": {
              "outlinewidth": 0,
              "ticks": ""
             }
            },
            "type": "scattermapbox"
           }
          ],
          "scatterpolar": [
           {
            "marker": {
             "colorbar": {
              "outlinewidth": 0,
              "ticks": ""
             }
            },
            "type": "scatterpolar"
           }
          ],
          "scatterpolargl": [
           {
            "marker": {
             "colorbar": {
              "outlinewidth": 0,
              "ticks": ""
             }
            },
            "type": "scatterpolargl"
           }
          ],
          "scatterternary": [
           {
            "marker": {
             "colorbar": {
              "outlinewidth": 0,
              "ticks": ""
             }
            },
            "type": "scatterternary"
           }
          ],
          "surface": [
           {
            "colorbar": {
             "outlinewidth": 0,
             "ticks": ""
            },
            "colorscale": [
             [
              0,
              "#0d0887"
             ],
             [
              0.1111111111111111,
              "#46039f"
             ],
             [
              0.2222222222222222,
              "#7201a8"
             ],
             [
              0.3333333333333333,
              "#9c179e"
             ],
             [
              0.4444444444444444,
              "#bd3786"
             ],
             [
              0.5555555555555556,
              "#d8576b"
             ],
             [
              0.6666666666666666,
              "#ed7953"
             ],
             [
              0.7777777777777778,
              "#fb9f3a"
             ],
             [
              0.8888888888888888,
              "#fdca26"
             ],
             [
              1,
              "#f0f921"
             ]
            ],
            "type": "surface"
           }
          ],
          "table": [
           {
            "cells": {
             "fill": {
              "color": "#EBF0F8"
             },
             "line": {
              "color": "white"
             }
            },
            "header": {
             "fill": {
              "color": "#C8D4E3"
             },
             "line": {
              "color": "white"
             }
            },
            "type": "table"
           }
          ]
         },
         "layout": {
          "annotationdefaults": {
           "arrowcolor": "#2a3f5f",
           "arrowhead": 0,
           "arrowwidth": 1
          },
          "autotypenumbers": "strict",
          "coloraxis": {
           "colorbar": {
            "outlinewidth": 0,
            "ticks": ""
           }
          },
          "colorscale": {
           "diverging": [
            [
             0,
             "#8e0152"
            ],
            [
             0.1,
             "#c51b7d"
            ],
            [
             0.2,
             "#de77ae"
            ],
            [
             0.3,
             "#f1b6da"
            ],
            [
             0.4,
             "#fde0ef"
            ],
            [
             0.5,
             "#f7f7f7"
            ],
            [
             0.6,
             "#e6f5d0"
            ],
            [
             0.7,
             "#b8e186"
            ],
            [
             0.8,
             "#7fbc41"
            ],
            [
             0.9,
             "#4d9221"
            ],
            [
             1,
             "#276419"
            ]
           ],
           "sequential": [
            [
             0,
             "#0d0887"
            ],
            [
             0.1111111111111111,
             "#46039f"
            ],
            [
             0.2222222222222222,
             "#7201a8"
            ],
            [
             0.3333333333333333,
             "#9c179e"
            ],
            [
             0.4444444444444444,
             "#bd3786"
            ],
            [
             0.5555555555555556,
             "#d8576b"
            ],
            [
             0.6666666666666666,
             "#ed7953"
            ],
            [
             0.7777777777777778,
             "#fb9f3a"
            ],
            [
             0.8888888888888888,
             "#fdca26"
            ],
            [
             1,
             "#f0f921"
            ]
           ],
           "sequentialminus": [
            [
             0,
             "#0d0887"
            ],
            [
             0.1111111111111111,
             "#46039f"
            ],
            [
             0.2222222222222222,
             "#7201a8"
            ],
            [
             0.3333333333333333,
             "#9c179e"
            ],
            [
             0.4444444444444444,
             "#bd3786"
            ],
            [
             0.5555555555555556,
             "#d8576b"
            ],
            [
             0.6666666666666666,
             "#ed7953"
            ],
            [
             0.7777777777777778,
             "#fb9f3a"
            ],
            [
             0.8888888888888888,
             "#fdca26"
            ],
            [
             1,
             "#f0f921"
            ]
           ]
          },
          "colorway": [
           "#636efa",
           "#EF553B",
           "#00cc96",
           "#ab63fa",
           "#FFA15A",
           "#19d3f3",
           "#FF6692",
           "#B6E880",
           "#FF97FF",
           "#FECB52"
          ],
          "font": {
           "color": "#2a3f5f"
          },
          "geo": {
           "bgcolor": "white",
           "lakecolor": "white",
           "landcolor": "#E5ECF6",
           "showlakes": true,
           "showland": true,
           "subunitcolor": "white"
          },
          "hoverlabel": {
           "align": "left"
          },
          "hovermode": "closest",
          "mapbox": {
           "style": "light"
          },
          "paper_bgcolor": "white",
          "plot_bgcolor": "#E5ECF6",
          "polar": {
           "angularaxis": {
            "gridcolor": "white",
            "linecolor": "white",
            "ticks": ""
           },
           "bgcolor": "#E5ECF6",
           "radialaxis": {
            "gridcolor": "white",
            "linecolor": "white",
            "ticks": ""
           }
          },
          "scene": {
           "xaxis": {
            "backgroundcolor": "#E5ECF6",
            "gridcolor": "white",
            "gridwidth": 2,
            "linecolor": "white",
            "showbackground": true,
            "ticks": "",
            "zerolinecolor": "white"
           },
           "yaxis": {
            "backgroundcolor": "#E5ECF6",
            "gridcolor": "white",
            "gridwidth": 2,
            "linecolor": "white",
            "showbackground": true,
            "ticks": "",
            "zerolinecolor": "white"
           },
           "zaxis": {
            "backgroundcolor": "#E5ECF6",
            "gridcolor": "white",
            "gridwidth": 2,
            "linecolor": "white",
            "showbackground": true,
            "ticks": "",
            "zerolinecolor": "white"
           }
          },
          "shapedefaults": {
           "line": {
            "color": "#2a3f5f"
           }
          },
          "ternary": {
           "aaxis": {
            "gridcolor": "white",
            "linecolor": "white",
            "ticks": ""
           },
           "baxis": {
            "gridcolor": "white",
            "linecolor": "white",
            "ticks": ""
           },
           "bgcolor": "#E5ECF6",
           "caxis": {
            "gridcolor": "white",
            "linecolor": "white",
            "ticks": ""
           }
          },
          "title": {
           "x": 0.05
          },
          "xaxis": {
           "automargin": true,
           "gridcolor": "white",
           "linecolor": "white",
           "ticks": "",
           "title": {
            "standoff": 15
           },
           "zerolinecolor": "white",
           "zerolinewidth": 2
          },
          "yaxis": {
           "automargin": true,
           "gridcolor": "white",
           "linecolor": "white",
           "ticks": "",
           "title": {
            "standoff": 15
           },
           "zerolinecolor": "white",
           "zerolinewidth": 2
          }
         }
        },
        "title": {
         "text": "Decision Tree ROC Score with Sampling Methods"
        },
        "uniformtext": {
         "minsize": 8,
         "mode": "hide"
        },
        "xaxis": {
         "anchor": "y",
         "autorange": true,
         "domain": [
          0,
          1
         ],
         "range": [
          -0.5,
          9.5
         ],
         "title": {},
         "type": "category"
        },
        "yaxis": {
         "anchor": "x",
         "autorange": true,
         "domain": [
          0,
          1
         ],
         "range": [
          0,
          0.6842105263157895
         ],
         "title": {
          "text": "ROC Score"
         },
         "type": "linear"
        }
       }
      },
      "image/png": "[encoded data removed]",
      "text/html": [
       "<div>                            <div id=\"5a08165b-3c2e-4851-8863-8073c481bfae\" class=\"plotly-graph-div\" style=\"height:525px; width:100%;\"></div>            <script type=\"text/javascript\">                require([\"plotly\"], function(Plotly) {                    window.PLOTLYENV=window.PLOTLYENV || {};                                    if (document.getElementById(\"5a08165b-3c2e-4851-8863-8073c481bfae\")) {                    Plotly.newPlot(                        \"5a08165b-3c2e-4851-8863-8073c481bfae\",                        [{\"alignmentgroup\":\"True\",\"hovertemplate\":\"method=Undersampling<br>level_0=%{x}<br>roc_score=%{text}<extra></extra>\",\"legendgroup\":\"Undersampling\",\"marker\":{\"color\":\"#636efa\",\"pattern\":{\"shape\":\"\"}},\"name\":\"Undersampling\",\"offsetgroup\":\"Undersampling\",\"orientation\":\"v\",\"showlegend\":true,\"text\":[0.65,0.611,0.611],\"textposition\":\"auto\",\"type\":\"bar\",\"x\":[\"RepeatedEditedNearestNeighbours\",\"RandomUnderSampler\",\"NeighbourhoodCleaningRule\"],\"xaxis\":\"x\",\"y\":[0.65,0.611,0.611],\"yaxis\":\"y\"},{\"alignmentgroup\":\"True\",\"hovertemplate\":\"method=Hybrid<br>level_0=%{x}<br>roc_score=%{text}<extra></extra>\",\"legendgroup\":\"Hybrid\",\"marker\":{\"color\":\"#EF553B\",\"pattern\":{\"shape\":\"\"}},\"name\":\"Hybrid\",\"offsetgroup\":\"Hybrid\",\"orientation\":\"v\",\"showlegend\":true,\"text\":[0.611],\"textposition\":\"auto\",\"type\":\"bar\",\"x\":[\"SMOTEENN\"],\"xaxis\":\"x\",\"y\":[0.611],\"yaxis\":\"y\"},{\"alignmentgroup\":\"True\",\"hovertemplate\":\"method=Original<br>level_0=%{x}<br>roc_score=%{text}<extra></extra>\",\"legendgroup\":\"Original\",\"marker\":{\"color\":\"#00cc96\",\"pattern\":{\"shape\":\"\"}},\"name\":\"Original\",\"offsetgroup\":\"Original\",\"orientation\":\"v\",\"showlegend\":true,\"text\":[0.578],\"textposition\":\"auto\",\"type\":\"bar\",\"x\":[\"Original\"],\"xaxis\":\"x\",\"y\":[0.578],\"yaxis\":\"y\"},{\"alignmentgroup\":\"True\",\"hovertemplate\":\"method=Oversampling<br>level_0=%{x}<br>roc_score=%{text}<extra></extra>\",\"legendgroup\":\"Oversampling\",\"marker\":{\"color\":\"#ab63fa\",\"pattern\":{\"shape\":\"\"}},\"name\":\"Oversampling\",\"offsetgroup\":\"Oversampling\",\"orientation\":\"v\",\"showlegend\":true,\"text\":[0.552,0.51,0.505,0.498,0.418],\"textposition\":\"auto\",\"type\":\"bar\",\"x\":[\"KMeansSMOTE\",\"BorderlineSMOTE\",\"RandomOverSampler\",\"SVMSMOTE\",\"SMOTEN\"],\"xaxis\":\"x\",\"y\":[0.552,0.51,0.505,0.498,0.418],\"yaxis\":\"y\"}],                        {\"barmode\":\"relative\",\"legend\":{\"title\":{\"text\":\"Sampling Method\"},\"tracegroupgap\":0},\"margin\":{\"t\":60},\"template\":{\"data\":{\"bar\":[{\"error_x\":{\"color\":\"#2a3f5f\"},\"error_y\":{\"color\":\"#2a3f5f\"},\"marker\":{\"line\":{\"color\":\"#E5ECF6\",\"width\":0.5},\"pattern\":{\"fillmode\":\"overlay\",\"size\":10,\"solidity\":0.2}},\"type\":\"bar\"}],\"barpolar\":[{\"marker\":{\"line\":{\"color\":\"#E5ECF6\",\"width\":0.5},\"pattern\":{\"fillmode\":\"overlay\",\"size\":10,\"solidity\":0.2}},\"type\":\"barpolar\"}],\"carpet\":[{\"aaxis\":{\"endlinecolor\":\"#2a3f5f\",\"gridcolor\":\"white\",\"linecolor\":\"white\",\"minorgridcolor\":\"white\",\"startlinecolor\":\"#2a3f5f\"},\"baxis\":{\"endlinecolor\":\"#2a3f5f\",\"gridcolor\":\"white\",\"linecolor\":\"white\",\"minorgridcolor\":\"white\",\"startlinecolor\":\"#2a3f5f\"},\"type\":\"carpet\"}],\"choropleth\":[{\"colorbar\":{\"outlinewidth\":0,\"ticks\":\"\"},\"type\":\"choropleth\"}],\"contour\":[{\"colorbar\":{\"outlinewidth\":0,\"ticks\":\"\"},\"colorscale\":[[0.0,\"#0d0887\"],[0.1111111111111111,\"#46039f\"],[0.2222222222222222,\"#7201a8\"],[0.3333333333333333,\"#9c179e\"],[0.4444444444444444,\"#bd3786\"],[0.5555555555555556,\"#d8576b\"],[0.6666666666666666,\"#ed7953\"],[0.7777777777777778,\"#fb9f3a\"],[0.8888888888888888,\"#fdca26\"],[1.0,\"#f0f921\"]],\"type\":\"contour\"}],\"contourcarpet\":[{\"colorbar\":{\"outlinewidth\":0,\"ticks\":\"\"},\"type\":\"contourcarpet\"}],\"heatmap\":[{\"colorbar\":{\"outlinewidth\":0,\"ticks\":\"\"},\"colorscale\":[[0.0,\"#0d0887\"],[0.1111111111111111,\"#46039f\"],[0.2222222222222222,\"#7201a8\"],[0.3333333333333333,\"#9c179e\"],[0.4444444444444444,\"#bd3786\"],[0.5555555555555556,\"#d8576b\"],[0.6666666666666666,\"#ed7953\"],[0.7777777777777778,\"#fb9f3a\"],[0.8888888888888888,\"#fdca26\"],[1.0,\"#f0f921\"]],\"type\":\"heatmap\"}],\"heatmapgl\":[{\"colorbar\":{\"outlinewidth\":0,\"ticks\":\"\"},\"colorscale\":[[0.0,\"#0d0887\"],[0.1111111111111111,\"#46039f\"],[0.2222222222222222,\"#7201a8\"],[0.3333333333333333,\"#9c179e\"],[0.4444444444444444,\"#bd3786\"],[0.5555555555555556,\"#d8576b\"],[0.6666666666666666,\"#ed7953\"],[0.7777777777777778,\"#fb9f3a\"],[0.8888888888888888,\"#fdca26\"],[1.0,\"#f0f921\"]],\"type\":\"heatmapgl\"}],\"histogram\":[{\"marker\":{\"pattern\":{\"fillmode\":\"overlay\",\"size\":10,\"solidity\":0.2}},\"type\":\"histogram\"}],\"histogram2d\":[{\"colorbar\":{\"outlinewidth\":0,\"ticks\":\"\"},\"colorscale\":[[0.0,\"#0d0887\"],[0.1111111111111111,\"#46039f\"],[0.2222222222222222,\"#7201a8\"],[0.3333333333333333,\"#9c179e\"],[0.4444444444444444,\"#bd3786\"],[0.5555555555555556,\"#d8576b\"],[0.6666666666666666,\"#ed7953\"],[0.7777777777777778,\"#fb9f3a\"],[0.8888888888888888,\"#fdca26\"],[1.0,\"#f0f921\"]],\"type\":\"histogram2d\"}],\"histogram2dcontour\":[{\"colorbar\":{\"outlinewidth\":0,\"ticks\":\"\"},\"colorscale\":[[0.0,\"#0d0887\"],[0.1111111111111111,\"#46039f\"],[0.2222222222222222,\"#7201a8\"],[0.3333333333333333,\"#9c179e\"],[0.4444444444444444,\"#bd3786\"],[0.5555555555555556,\"#d8576b\"],[0.6666666666666666,\"#ed7953\"],[0.7777777777777778,\"#fb9f3a\"],[0.8888888888888888,\"#fdca26\"],[1.0,\"#f0f921\"]],\"type\":\"histogram2dcontour\"}],\"mesh3d\":[{\"colorbar\":{\"outlinewidth\":0,\"ticks\":\"\"},\"type\":\"mesh3d\"}],\"parcoords\":[{\"line\":{\"colorbar\":{\"outlinewidth\":0,\"ticks\":\"\"}},\"type\":\"parcoords\"}],\"pie\":[{\"automargin\":true,\"type\":\"pie\"}],\"scatter\":[{\"marker\":{\"colorbar\":{\"outlinewidth\":0,\"ticks\":\"\"}},\"type\":\"scatter\"}],\"scatter3d\":[{\"line\":{\"colorbar\":{\"outlinewidth\":0,\"ticks\":\"\"}},\"marker\":{\"colorbar\":{\"outlinewidth\":0,\"ticks\":\"\"}},\"type\":\"scatter3d\"}],\"scattercarpet\":[{\"marker\":{\"colorbar\":{\"outlinewidth\":0,\"ticks\":\"\"}},\"type\":\"scattercarpet\"}],\"scattergeo\":[{\"marker\":{\"colorbar\":{\"outlinewidth\":0,\"ticks\":\"\"}},\"type\":\"scattergeo\"}],\"scattergl\":[{\"marker\":{\"colorbar\":{\"outlinewidth\":0,\"ticks\":\"\"}},\"type\":\"scattergl\"}],\"scattermapbox\":[{\"marker\":{\"colorbar\":{\"outlinewidth\":0,\"ticks\":\"\"}},\"type\":\"scattermapbox\"}],\"scatterpolar\":[{\"marker\":{\"colorbar\":{\"outlinewidth\":0,\"ticks\":\"\"}},\"type\":\"scatterpolar\"}],\"scatterpolargl\":[{\"marker\":{\"colorbar\":{\"outlinewidth\":0,\"ticks\":\"\"}},\"type\":\"scatterpolargl\"}],\"scatterternary\":[{\"marker\":{\"colorbar\":{\"outlinewidth\":0,\"ticks\":\"\"}},\"type\":\"scatterternary\"}],\"surface\":[{\"colorbar\":{\"outlinewidth\":0,\"ticks\":\"\"},\"colorscale\":[[0.0,\"#0d0887\"],[0.1111111111111111,\"#46039f\"],[0.2222222222222222,\"#7201a8\"],[0.3333333333333333,\"#9c179e\"],[0.4444444444444444,\"#bd3786\"],[0.5555555555555556,\"#d8576b\"],[0.6666666666666666,\"#ed7953\"],[0.7777777777777778,\"#fb9f3a\"],[0.8888888888888888,\"#fdca26\"],[1.0,\"#f0f921\"]],\"type\":\"surface\"}],\"table\":[{\"cells\":{\"fill\":{\"color\":\"#EBF0F8\"},\"line\":{\"color\":\"white\"}},\"header\":{\"fill\":{\"color\":\"#C8D4E3\"},\"line\":{\"color\":\"white\"}},\"type\":\"table\"}]},\"layout\":{\"annotationdefaults\":{\"arrowcolor\":\"#2a3f5f\",\"arrowhead\":0,\"arrowwidth\":1},\"autotypenumbers\":\"strict\",\"coloraxis\":{\"colorbar\":{\"outlinewidth\":0,\"ticks\":\"\"}},\"colorscale\":{\"diverging\":[[0,\"#8e0152\"],[0.1,\"#c51b7d\"],[0.2,\"#de77ae\"],[0.3,\"#f1b6da\"],[0.4,\"#fde0ef\"],[0.5,\"#f7f7f7\"],[0.6,\"#e6f5d0\"],[0.7,\"#b8e186\"],[0.8,\"#7fbc41\"],[0.9,\"#4d9221\"],[1,\"#276419\"]],\"sequential\":[[0.0,\"#0d0887\"],[0.1111111111111111,\"#46039f\"],[0.2222222222222222,\"#7201a8\"],[0.3333333333333333,\"#9c179e\"],[0.4444444444444444,\"#bd3786\"],[0.5555555555555556,\"#d8576b\"],[0.6666666666666666,\"#ed7953\"],[0.7777777777777778,\"#fb9f3a\"],[0.8888888888888888,\"#fdca26\"],[1.0,\"#f0f921\"]],\"sequentialminus\":[[0.0,\"#0d0887\"],[0.1111111111111111,\"#46039f\"],[0.2222222222222222,\"#7201a8\"],[0.3333333333333333,\"#9c179e\"],[0.4444444444444444,\"#bd3786\"],[0.5555555555555556,\"#d8576b\"],[0.6666666666666666,\"#ed7953\"],[0.7777777777777778,\"#fb9f3a\"],[0.8888888888888888,\"#fdca26\"],[1.0,\"#f0f921\"]]},\"colorway\":[\"#636efa\",\"#EF553B\",\"#00cc96\",\"#ab63fa\",\"#FFA15A\",\"#19d3f3\",\"#FF6692\",\"#B6E880\",\"#FF97FF\",\"#FECB52\"],\"font\":{\"color\":\"#2a3f5f\"},\"geo\":{\"bgcolor\":\"white\",\"lakecolor\":\"white\",\"landcolor\":\"#E5ECF6\",\"showlakes\":true,\"showland\":true,\"subunitcolor\":\"white\"},\"hoverlabel\":{\"align\":\"left\"},\"hovermode\":\"closest\",\"mapbox\":{\"style\":\"light\"},\"paper_bgcolor\":\"white\",\"plot_bgcolor\":\"#E5ECF6\",\"polar\":{\"angularaxis\":{\"gridcolor\":\"white\",\"linecolor\":\"white\",\"ticks\":\"\"},\"bgcolor\":\"#E5ECF6\",\"radialaxis\":{\"gridcolor\":\"white\",\"linecolor\":\"white\",\"ticks\":\"\"}},\"scene\":{\"xaxis\":{\"backgroundcolor\":\"#E5ECF6\",\"gridcolor\":\"white\",\"gridwidth\":2,\"linecolor\":\"white\",\"showbackground\":true,\"ticks\":\"\",\"zerolinecolor\":\"white\"},\"yaxis\":{\"backgroundcolor\":\"#E5ECF6\",\"gridcolor\":\"white\",\"gridwidth\":2,\"linecolor\":\"white\",\"showbackground\":true,\"ticks\":\"\",\"zerolinecolor\":\"white\"},\"zaxis\":{\"backgroundcolor\":\"#E5ECF6\",\"gridcolor\":\"white\",\"gridwidth\":2,\"linecolor\":\"white\",\"showbackground\":true,\"ticks\":\"\",\"zerolinecolor\":\"white\"}},\"shapedefaults\":{\"line\":{\"color\":\"#2a3f5f\"}},\"ternary\":{\"aaxis\":{\"gridcolor\":\"white\",\"linecolor\":\"white\",\"ticks\":\"\"},\"baxis\":{\"gridcolor\":\"white\",\"linecolor\":\"white\",\"ticks\":\"\"},\"bgcolor\":\"#E5ECF6\",\"caxis\":{\"gridcolor\":\"white\",\"linecolor\":\"white\",\"ticks\":\"\"}},\"title\":{\"x\":0.05},\"xaxis\":{\"automargin\":true,\"gridcolor\":\"white\",\"linecolor\":\"white\",\"ticks\":\"\",\"title\":{\"standoff\":15},\"zerolinecolor\":\"white\",\"zerolinewidth\":2},\"yaxis\":{\"automargin\":true,\"gridcolor\":\"white\",\"linecolor\":\"white\",\"ticks\":\"\",\"title\":{\"standoff\":15},\"zerolinecolor\":\"white\",\"zerolinewidth\":2}}},\"title\":{\"text\":\"Decision Tree ROC Score with Sampling Methods\"},\"uniformtext\":{\"minsize\":8,\"mode\":\"hide\"},\"xaxis\":{\"anchor\":\"y\",\"domain\":[0.0,1.0],\"title\":{}},\"yaxis\":{\"anchor\":\"x\",\"domain\":[0.0,1.0],\"title\":{\"text\":\"ROC Score\"}}},                        {\"responsive\": true}                    ).then(function(){\n",
       "                            \n",
       "var gd = document.getElementById('5a08165b-3c2e-4851-8863-8073c481bfae');\n",
       "var x = new MutationObserver(function (mutations, observer) {{\n",
       "        var display = window.getComputedStyle(gd).display;\n",
       "        if (!display || display === 'none') {{\n",
       "            console.log([gd, 'removed!']);\n",
       "            Plotly.purge(gd);\n",
       "            observer.disconnect();\n",
       "        }}\n",
       "}});\n",
       "\n",
       "// Listen for the removal of the full notebook cells\n",
       "var notebookContainer = gd.closest('#notebook-container');\n",
       "if (notebookContainer) {{\n",
       "    x.observe(notebookContainer, {childList: true});\n",
       "}}\n",
       "\n",
       "// Listen for the clearing of the current output cell\n",
       "var outputEl = gd.closest('.output');\n",
       "if (outputEl) {{\n",
       "    x.observe(outputEl, {childList: true});\n",
       "}}\n",
       "\n",
       "                        })                };                });            </script>        </div>"
      ]
     },
     "metadata": {},
     "output_type": "display_data"
    }
   ],
   "source": [
    "bar_report = report_total.reset_index()[[\"level_0\", \"roc_score\", \"method\"]].drop_duplicates().sort_values(\"roc_score\", ascending=False)\n",
    "bar_report['roc_score']=round(bar_report['roc_score'],3)\n",
    "fig = px.bar(bar_report,color=\"method\",y=\"roc_score\", x=\"level_0\",text=\"roc_score\")\n",
    "fig.update_layout(uniformtext_minsize=8, uniformtext_mode='hide', xaxis_title=None,title =\"Decision Tree ROC Score with Sampling Methods\", yaxis_title=\"ROC Score\", legend_title=\"Sampling Method\")"
   ]
  },
  {
   "cell_type": "code",
   "execution_count": 14,
   "metadata": {},
   "outputs": [
    {
     "data": {
      "application/vnd.plotly.v1+json": {
       "config": {
        "plotlyServerURL": "https://plot.ly"
       },
       "data": [
        {
         "hovertemplate": "age=%{x}<br>year=%{y}<br>nodes=%{z}<br>color=%{marker.color}<extra></extra>",
         "legendgroup": "",
         "marker": {
          "color": [
           1,
           1,
           0,
           1,
           0,
           0,
           1,
           1,
           0,
           1,
           1,
           0,
           1,
           0,
           1,
           1,
           0,
           0,
           1,
           1,
           1,
           1,
           1,
           1,
           1,
           1,
           1,
           0,
           1,
           1,
           1,
           1,
           0,
           1,
           1,
           1,
           1,
           1,
           0,
           1,
           0,
           0,
           1,
           1,
           0,
           0,
           1,
           0,
           1,
           1,
           1,
           1,
           1,
           1,
           1,
           1,
           1,
           1,
           0,
           1,
           1,
           1,
           0,
           1,
           1,
           1,
           1,
           1,
           0,
           0,
           1,
           1,
           0,
           0,
           0,
           1,
           1,
           0,
           1,
           1,
           1,
           1,
           1,
           0,
           1,
           1,
           1,
           1,
           0,
           1,
           1,
           1,
           0,
           0,
           1,
           1,
           1,
           1,
           1,
           0,
           1,
           1,
           0,
           1,
           1,
           1,
           1,
           0,
           1,
           1,
           1,
           1,
           1,
           1,
           1,
           1,
           1,
           0,
           0,
           1,
           1,
           0,
           0,
           1,
           1,
           1,
           1,
           1,
           0,
           0,
           1,
           1,
           0,
           1,
           1,
           1,
           0,
           1,
           1,
           0,
           1,
           1,
           1,
           1,
           1,
           1,
           1,
           1,
           1,
           1,
           1,
           1,
           1,
           1,
           1,
           1,
           1,
           1,
           1,
           1,
           1,
           0,
           1,
           0,
           1,
           1,
           1,
           1,
           0,
           1,
           1,
           1,
           1,
           1,
           0,
           1,
           1,
           0,
           1,
           0,
           1,
           0,
           0,
           1,
           1,
           1,
           1,
           1,
           1,
           0,
           0,
           0,
           1,
           1,
           1,
           1,
           1,
           0,
           1,
           0,
           1,
           1,
           1,
           1,
           1,
           1,
           1,
           1,
           1,
           1,
           1,
           1,
           1,
           1,
           1,
           0,
           1,
           1,
           0,
           1,
           0,
           1,
           1,
           1,
           1,
           1,
           1,
           1,
           1,
           1,
           1,
           1,
           1,
           1,
           1,
           1,
           1,
           1,
           1,
           1,
           1,
           1,
           1,
           1,
           0,
           0,
           0,
           0,
           0,
           0,
           0,
           0,
           0,
           0,
           0,
           0,
           0,
           0,
           0,
           0,
           0,
           0,
           0,
           0,
           0,
           0,
           0,
           0,
           0,
           0,
           0,
           0,
           0,
           0,
           0,
           0,
           0,
           0,
           0,
           0,
           0,
           0,
           0,
           0,
           0,
           0,
           0,
           0,
           0,
           0,
           0,
           0,
           0,
           0,
           0,
           0,
           0,
           0,
           0,
           0,
           0,
           0,
           0,
           0,
           0,
           0,
           0,
           0,
           0,
           0,
           0,
           0,
           0,
           0,
           0,
           0,
           0,
           0,
           0,
           0,
           0,
           0,
           0,
           0,
           0,
           0,
           0,
           0,
           0,
           0,
           0,
           0,
           0,
           0,
           0,
           0,
           0,
           0,
           0,
           0,
           0,
           0,
           0,
           0,
           0,
           0,
           0,
           0,
           0,
           0,
           0,
           0,
           0,
           0,
           0,
           0,
           0,
           0,
           0,
           0,
           0,
           0,
           0,
           0,
           0,
           0,
           0,
           0,
           0,
           0,
           0,
           0,
           0,
           0,
           0,
           0
          ],
          "coloraxis": "coloraxis",
          "symbol": "circle"
         },
         "mode": "markers",
         "name": "",
         "scene": "scene",
         "showlegend": false,
         "type": "scatter3d",
         "x": [
          64,
          50,
          44,
          67,
          53,
          47,
          53,
          60,
          74,
          70,
          47,
          62,
          38,
          48,
          37,
          41,
          70,
          62,
          55,
          38,
          52,
          65,
          39,
          50,
          54,
          61,
          52,
          55,
          58,
          70,
          58,
          55,
          51,
          63,
          44,
          52,
          60,
          62,
          56,
          70,
          41,
          52,
          64,
          57,
          53,
          54,
          57,
          42,
          67,
          37,
          54,
          44,
          54,
          42,
          43,
          74,
          64,
          59,
          72,
          55,
          60,
          55,
          54,
          38,
          45,
          59,
          59,
          49,
          51,
          70,
          48,
          36,
          44,
          48,
          67,
          61,
          31,
          47,
          54,
          42,
          43,
          52,
          58,
          53,
          69,
          40,
          63,
          34,
          48,
          59,
          31,
          53,
          50,
          38,
          38,
          44,
          69,
          58,
          37,
          65,
          72,
          66,
          45,
          41,
          30,
          63,
          47,
          56,
          45,
          34,
          61,
          42,
          40,
          35,
          52,
          41,
          59,
          63,
          65,
          49,
          73,
          43,
          57,
          61,
          50,
          59,
          56,
          59,
          41,
          49,
          51,
          57,
          61,
          52,
          48,
          64,
          47,
          60,
          46,
          59,
          53,
          39,
          54,
          48,
          30,
          46,
          68,
          46,
          76,
          65,
          75,
          43,
          41,
          41,
          45,
          77,
          51,
          57,
          37,
          55,
          52,
          52,
          44,
          55,
          47,
          57,
          50,
          66,
          78,
          56,
          33,
          43,
          57,
          45,
          54,
          49,
          51,
          65,
          68,
          52,
          65,
          46,
          45,
          70,
          34,
          49,
          47,
          39,
          42,
          54,
          61,
          43,
          30,
          49,
          66,
          40,
          47,
          66,
          39,
          42,
          65,
          50,
          38,
          55,
          53,
          52,
          62,
          57,
          38,
          38,
          50,
          55,
          69,
          67,
          52,
          69,
          54,
          47,
          57,
          62,
          49,
          65,
          43,
          38,
          53,
          72,
          54,
          72,
          39,
          56,
          45,
          43,
          45,
          71,
          62,
          67,
          58,
          34,
          56,
          63,
          56,
          49,
          41,
          54,
          41,
          41,
          45,
          44,
          42,
          42,
          38,
          48,
          70,
          51,
          41,
          41,
          41,
          70,
          41,
          41,
          52,
          47,
          47,
          38,
          41,
          44,
          41,
          53,
          44,
          48,
          53,
          41,
          48,
          44,
          41,
          41,
          41,
          48,
          70,
          41,
          44,
          44,
          41,
          41,
          70,
          41,
          45,
          70,
          70,
          48,
          38,
          42,
          47,
          48,
          42,
          41,
          45,
          47,
          41,
          41,
          41,
          41,
          44,
          52,
          52,
          44,
          44,
          41,
          45,
          48,
          47,
          41,
          47,
          53,
          70,
          44,
          44,
          48,
          41,
          47,
          47,
          38,
          44,
          41,
          47,
          44,
          41,
          44,
          44,
          38,
          44,
          48,
          41,
          45,
          52,
          48,
          44,
          41,
          44,
          70,
          44,
          41,
          47,
          42,
          52,
          41,
          47,
          41,
          48,
          70,
          44,
          41,
          41,
          70,
          53,
          45,
          51,
          44,
          70,
          48,
          44,
          41,
          44,
          41,
          48,
          52,
          44,
          70,
          41,
          41,
          52,
          44,
          45,
          42,
          52,
          48
         ],
         "y": [
          66,
          63,
          64,
          65,
          65,
          62,
          60,
          61,
          65,
          59,
          58,
          65,
          64,
          58,
          58,
          58,
          58,
          58,
          69,
          60,
          64,
          67,
          58,
          66,
          59,
          65,
          60,
          68,
          58,
          68,
          58,
          69,
          59,
          63,
          61,
          62,
          61,
          62,
          66,
          66,
          64,
          62,
          65,
          64,
          65,
          60,
          64,
          59,
          66,
          60,
          62,
          67,
          69,
          60,
          65,
          63,
          61,
          60,
          63,
          67,
          67,
          58,
          65,
          67,
          60,
          64,
          63,
          66,
          59,
          58,
          61,
          60,
          63,
          67,
          64,
          68,
          65,
          63,
          62,
          63,
          64,
          61,
          60,
          63,
          66,
          58,
          61,
          60,
          58,
          64,
          59,
          63,
          64,
          69,
          66,
          63,
          60,
          59,
          63,
          62,
          67,
          58,
          65,
          65,
          65,
          61,
          60,
          65,
          64,
          60,
          64,
          61,
          58,
          64,
          68,
          69,
          67,
          60,
          61,
          67,
          68,
          58,
          62,
          59,
          58,
          64,
          66,
          64,
          60,
          63,
          64,
          64,
          62,
          60,
          64,
          68,
          65,
          64,
          62,
          62,
          58,
          67,
          58,
          66,
          64,
          58,
          68,
          63,
          67,
          64,
          62,
          60,
          64,
          59,
          59,
          65,
          66,
          67,
          63,
          66,
          69,
          59,
          61,
          63,
          63,
          63,
          59,
          68,
          65,
          60,
          60,
          64,
          62,
          67,
          68,
          63,
          65,
          66,
          67,
          69,
          58,
          62,
          67,
          67,
          61,
          60,
          67,
          63,
          59,
          65,
          68,
          64,
          62,
          62,
          58,
          65,
          68,
          58,
          59,
          69,
          64,
          61,
          62,
          58,
          60,
          62,
          58,
          61,
          66,
          60,
          61,
          66,
          65,
          66,
          63,
          67,
          63,
          61,
          61,
          66,
          64,
          59,
          66,
          59,
          61,
          64,
          67,
          58,
          63,
          66,
          67,
          63,
          68,
          68,
          66,
          61,
          67,
          58,
          67,
          61,
          60,
          62,
          59,
          60,
          63,
          64,
          67,
          63,
          65,
          65,
          58,
          68,
          58,
          59,
          63,
          63,
          63,
          58,
          63,
          63,
          62,
          65,
          58,
          58,
          63,
          65,
          63,
          63,
          65,
          58,
          63,
          63,
          68,
          62,
          63,
          63,
          63,
          58,
          58,
          64,
          63,
          63,
          63,
          63,
          58,
          63,
          65,
          58,
          58,
          58,
          58,
          58,
          65,
          68,
          58,
          64,
          67,
          62,
          63,
          63,
          63,
          63,
          63,
          62,
          62,
          63,
          63,
          63,
          67,
          58,
          58,
          63,
          62,
          63,
          58,
          65,
          63,
          65,
          64,
          65,
          65,
          58,
          63,
          63,
          58,
          63,
          63,
          65,
          63,
          58,
          63,
          58,
          63,
          67,
          62,
          65,
          62,
          63,
          65,
          58,
          65,
          64,
          62,
          65,
          62,
          63,
          62,
          63,
          58,
          58,
          62,
          63,
          63,
          58,
          63,
          67,
          59,
          65,
          58,
          58,
          63,
          63,
          63,
          64,
          58,
          62,
          63,
          58,
          63,
          63,
          62,
          65,
          65,
          65,
          62,
          65
         ],
         "z": [
          0,
          1,
          6,
          0,
          1,
          0,
          2,
          25,
          3,
          8,
          3,
          19,
          1,
          11,
          0,
          0,
          4,
          0,
          3,
          0,
          0,
          0,
          0,
          1,
          7,
          8,
          5,
          15,
          0,
          0,
          3,
          22,
          3,
          0,
          0,
          1,
          1,
          6,
          3,
          14,
          0,
          3,
          22,
          9,
          12,
          11,
          0,
          0,
          0,
          0,
          0,
          16,
          7,
          1,
          0,
          0,
          0,
          0,
          0,
          1,
          2,
          1,
          23,
          5,
          0,
          1,
          0,
          0,
          13,
          0,
          8,
          1,
          19,
          7,
          8,
          0,
          4,
          23,
          0,
          1,
          2,
          0,
          3,
          24,
          0,
          2,
          28,
          0,
          11,
          4,
          2,
          0,
          0,
          21,
          0,
          1,
          0,
          0,
          0,
          22,
          3,
          1,
          6,
          0,
          0,
          0,
          4,
          9,
          0,
          1,
          0,
          4,
          0,
          13,
          0,
          8,
          3,
          1,
          2,
          1,
          0,
          52,
          14,
          0,
          1,
          0,
          1,
          7,
          23,
          0,
          7,
          0,
          5,
          4,
          0,
          0,
          0,
          0,
          0,
          35,
          1,
          0,
          1,
          0,
          1,
          3,
          0,
          0,
          0,
          0,
          1,
          0,
          0,
          0,
          14,
          3,
          1,
          0,
          0,
          0,
          0,
          2,
          0,
          6,
          6,
          0,
          2,
          0,
          1,
          0,
          0,
          3,
          0,
          0,
          7,
          3,
          0,
          15,
          0,
          3,
          0,
          5,
          1,
          0,
          10,
          1,
          0,
          0,
          2,
          5,
          1,
          0,
          3,
          1,
          0,
          0,
          4,
          0,
          2,
          1,
          0,
          0,
          3,
          0,
          1,
          0,
          0,
          0,
          11,
          1,
          6,
          18,
          0,
          0,
          4,
          8,
          19,
          0,
          5,
          0,
          10,
          2,
          4,
          2,
          1,
          0,
          46,
          0,
          4,
          2,
          1,
          2,
          0,
          2,
          0,
          0,
          0,
          30,
          0,
          9,
          0,
          0,
          8,
          3,
          15,
          0,
          1,
          6,
          1,
          1,
          23,
          3,
          0,
          3,
          0,
          0,
          15,
          0,
          15,
          15,
          3,
          0,
          0,
          23,
          15,
          5,
          15,
          23,
          5,
          11,
          23,
          23,
          3,
          5,
          0,
          0,
          0,
          11,
          0,
          0,
          6,
          6,
          15,
          15,
          0,
          0,
          5,
          0,
          0,
          11,
          23,
          0,
          0,
          3,
          0,
          0,
          1,
          0,
          15,
          15,
          0,
          0,
          6,
          3,
          3,
          6,
          6,
          0,
          1,
          11,
          0,
          0,
          0,
          23,
          0,
          5,
          6,
          1,
          0,
          0,
          0,
          23,
          6,
          15,
          0,
          6,
          0,
          5,
          6,
          23,
          6,
          11,
          15,
          1,
          3,
          1,
          5,
          0,
          5,
          0,
          5,
          0,
          0,
          1,
          3,
          0,
          0,
          0,
          11,
          0,
          5,
          15,
          15,
          0,
          23,
          1,
          3,
          5,
          0,
          11,
          6,
          15,
          6,
          0,
          11,
          3,
          6,
          0,
          0,
          0,
          3,
          5,
          5,
          1,
          3,
          1
         ]
        }
       ],
       "layout": {
        "coloraxis": {
         "colorbar": {
          "title": {
           "text": "color"
          }
         },
         "colorscale": [
          [
           0,
           "#0d0887"
          ],
          [
           0.1111111111111111,
           "#46039f"
          ],
          [
           0.2222222222222222,
           "#7201a8"
          ],
          [
           0.3333333333333333,
           "#9c179e"
          ],
          [
           0.4444444444444444,
           "#bd3786"
          ],
          [
           0.5555555555555556,
           "#d8576b"
          ],
          [
           0.6666666666666666,
           "#ed7953"
          ],
          [
           0.7777777777777778,
           "#fb9f3a"
          ],
          [
           0.8888888888888888,
           "#fdca26"
          ],
          [
           1,
           "#f0f921"
          ]
         ]
        },
        "height": 600,
        "legend": {
         "tracegroupgap": 0
        },
        "margin": {
         "t": 60
        },
        "scene": {
         "aspectmode": "auto",
         "aspectratio": {
          "x": 1,
          "y": 1,
          "z": 1
         },
         "camera": {
          "center": {
           "x": 0,
           "y": 0,
           "z": 0
          },
          "eye": {
           "x": 0.6400269733239488,
           "y": 0.6400269733239486,
           "z": 0.6400269733239486
          },
          "projection": {
           "type": "perspective"
          },
          "up": {
           "x": 0,
           "y": 0,
           "z": 1
          }
         },
         "domain": {
          "x": [
           0,
           1
          ],
          "y": [
           0,
           1
          ]
         },
         "xaxis": {
          "title": {
           "text": "age"
          },
          "type": "linear"
         },
         "yaxis": {
          "title": {
           "text": "year"
          },
          "type": "linear"
         },
         "zaxis": {
          "title": {
           "text": "nodes"
          },
          "type": "linear"
         }
        },
        "template": {
         "data": {
          "bar": [
           {
            "error_x": {
             "color": "#2a3f5f"
            },
            "error_y": {
             "color": "#2a3f5f"
            },
            "marker": {
             "line": {
              "color": "#E5ECF6",
              "width": 0.5
             },
             "pattern": {
              "fillmode": "overlay",
              "size": 10,
              "solidity": 0.2
             }
            },
            "type": "bar"
           }
          ],
          "barpolar": [
           {
            "marker": {
             "line": {
              "color": "#E5ECF6",
              "width": 0.5
             },
             "pattern": {
              "fillmode": "overlay",
              "size": 10,
              "solidity": 0.2
             }
            },
            "type": "barpolar"
           }
          ],
          "carpet": [
           {
            "aaxis": {
             "endlinecolor": "#2a3f5f",
             "gridcolor": "white",
             "linecolor": "white",
             "minorgridcolor": "white",
             "startlinecolor": "#2a3f5f"
            },
            "baxis": {
             "endlinecolor": "#2a3f5f",
             "gridcolor": "white",
             "linecolor": "white",
             "minorgridcolor": "white",
             "startlinecolor": "#2a3f5f"
            },
            "type": "carpet"
           }
          ],
          "choropleth": [
           {
            "colorbar": {
             "outlinewidth": 0,
             "ticks": ""
            },
            "type": "choropleth"
           }
          ],
          "contour": [
           {
            "colorbar": {
             "outlinewidth": 0,
             "ticks": ""
            },
            "colorscale": [
             [
              0,
              "#0d0887"
             ],
             [
              0.1111111111111111,
              "#46039f"
             ],
             [
              0.2222222222222222,
              "#7201a8"
             ],
             [
              0.3333333333333333,
              "#9c179e"
             ],
             [
              0.4444444444444444,
              "#bd3786"
             ],
             [
              0.5555555555555556,
              "#d8576b"
             ],
             [
              0.6666666666666666,
              "#ed7953"
             ],
             [
              0.7777777777777778,
              "#fb9f3a"
             ],
             [
              0.8888888888888888,
              "#fdca26"
             ],
             [
              1,
              "#f0f921"
             ]
            ],
            "type": "contour"
           }
          ],
          "contourcarpet": [
           {
            "colorbar": {
             "outlinewidth": 0,
             "ticks": ""
            },
            "type": "contourcarpet"
           }
          ],
          "heatmap": [
           {
            "colorbar": {
             "outlinewidth": 0,
             "ticks": ""
            },
            "colorscale": [
             [
              0,
              "#0d0887"
             ],
             [
              0.1111111111111111,
              "#46039f"
             ],
             [
              0.2222222222222222,
              "#7201a8"
             ],
             [
              0.3333333333333333,
              "#9c179e"
             ],
             [
              0.4444444444444444,
              "#bd3786"
             ],
             [
              0.5555555555555556,
              "#d8576b"
             ],
             [
              0.6666666666666666,
              "#ed7953"
             ],
             [
              0.7777777777777778,
              "#fb9f3a"
             ],
             [
              0.8888888888888888,
              "#fdca26"
             ],
             [
              1,
              "#f0f921"
             ]
            ],
            "type": "heatmap"
           }
          ],
          "heatmapgl": [
           {
            "colorbar": {
             "outlinewidth": 0,
             "ticks": ""
            },
            "colorscale": [
             [
              0,
              "#0d0887"
             ],
             [
              0.1111111111111111,
              "#46039f"
             ],
             [
              0.2222222222222222,
              "#7201a8"
             ],
             [
              0.3333333333333333,
              "#9c179e"
             ],
             [
              0.4444444444444444,
              "#bd3786"
             ],
             [
              0.5555555555555556,
              "#d8576b"
             ],
             [
              0.6666666666666666,
              "#ed7953"
             ],
             [
              0.7777777777777778,
              "#fb9f3a"
             ],
             [
              0.8888888888888888,
              "#fdca26"
             ],
             [
              1,
              "#f0f921"
             ]
            ],
            "type": "heatmapgl"
           }
          ],
          "histogram": [
           {
            "marker": {
             "pattern": {
              "fillmode": "overlay",
              "size": 10,
              "solidity": 0.2
             }
            },
            "type": "histogram"
           }
          ],
          "histogram2d": [
           {
            "colorbar": {
             "outlinewidth": 0,
             "ticks": ""
            },
            "colorscale": [
             [
              0,
              "#0d0887"
             ],
             [
              0.1111111111111111,
              "#46039f"
             ],
             [
              0.2222222222222222,
              "#7201a8"
             ],
             [
              0.3333333333333333,
              "#9c179e"
             ],
             [
              0.4444444444444444,
              "#bd3786"
             ],
             [
              0.5555555555555556,
              "#d8576b"
             ],
             [
              0.6666666666666666,
              "#ed7953"
             ],
             [
              0.7777777777777778,
              "#fb9f3a"
             ],
             [
              0.8888888888888888,
              "#fdca26"
             ],
             [
              1,
              "#f0f921"
             ]
            ],
            "type": "histogram2d"
           }
          ],
          "histogram2dcontour": [
           {
            "colorbar": {
             "outlinewidth": 0,
             "ticks": ""
            },
            "colorscale": [
             [
              0,
              "#0d0887"
             ],
             [
              0.1111111111111111,
              "#46039f"
             ],
             [
              0.2222222222222222,
              "#7201a8"
             ],
             [
              0.3333333333333333,
              "#9c179e"
             ],
             [
              0.4444444444444444,
              "#bd3786"
             ],
             [
              0.5555555555555556,
              "#d8576b"
             ],
             [
              0.6666666666666666,
              "#ed7953"
             ],
             [
              0.7777777777777778,
              "#fb9f3a"
             ],
             [
              0.8888888888888888,
              "#fdca26"
             ],
             [
              1,
              "#f0f921"
             ]
            ],
            "type": "histogram2dcontour"
           }
          ],
          "mesh3d": [
           {
            "colorbar": {
             "outlinewidth": 0,
             "ticks": ""
            },
            "type": "mesh3d"
           }
          ],
          "parcoords": [
           {
            "line": {
             "colorbar": {
              "outlinewidth": 0,
              "ticks": ""
             }
            },
            "type": "parcoords"
           }
          ],
          "pie": [
           {
            "automargin": true,
            "type": "pie"
           }
          ],
          "scatter": [
           {
            "marker": {
             "colorbar": {
              "outlinewidth": 0,
              "ticks": ""
             }
            },
            "type": "scatter"
           }
          ],
          "scatter3d": [
           {
            "line": {
             "colorbar": {
              "outlinewidth": 0,
              "ticks": ""
             }
            },
            "marker": {
             "colorbar": {
              "outlinewidth": 0,
              "ticks": ""
             }
            },
            "type": "scatter3d"
           }
          ],
          "scattercarpet": [
           {
            "marker": {
             "colorbar": {
              "outlinewidth": 0,
              "ticks": ""
             }
            },
            "type": "scattercarpet"
           }
          ],
          "scattergeo": [
           {
            "marker": {
             "colorbar": {
              "outlinewidth": 0,
              "ticks": ""
             }
            },
            "type": "scattergeo"
           }
          ],
          "scattergl": [
           {
            "marker": {
             "colorbar": {
              "outlinewidth": 0,
              "ticks": ""
             }
            },
            "type": "scattergl"
           }
          ],
          "scattermapbox": [
           {
            "marker": {
             "colorbar": {
              "outlinewidth": 0,
              "ticks": ""
             }
            },
            "type": "scattermapbox"
           }
          ],
          "scatterpolar": [
           {
            "marker": {
             "colorbar": {
              "outlinewidth": 0,
              "ticks": ""
             }
            },
            "type": "scatterpolar"
           }
          ],
          "scatterpolargl": [
           {
            "marker": {
             "colorbar": {
              "outlinewidth": 0,
              "ticks": ""
             }
            },
            "type": "scatterpolargl"
           }
          ],
          "scatterternary": [
           {
            "marker": {
             "colorbar": {
              "outlinewidth": 0,
              "ticks": ""
             }
            },
            "type": "scatterternary"
           }
          ],
          "surface": [
           {
            "colorbar": {
             "outlinewidth": 0,
             "ticks": ""
            },
            "colorscale": [
             [
              0,
              "#0d0887"
             ],
             [
              0.1111111111111111,
              "#46039f"
             ],
             [
              0.2222222222222222,
              "#7201a8"
             ],
             [
              0.3333333333333333,
              "#9c179e"
             ],
             [
              0.4444444444444444,
              "#bd3786"
             ],
             [
              0.5555555555555556,
              "#d8576b"
             ],
             [
              0.6666666666666666,
              "#ed7953"
             ],
             [
              0.7777777777777778,
              "#fb9f3a"
             ],
             [
              0.8888888888888888,
              "#fdca26"
             ],
             [
              1,
              "#f0f921"
             ]
            ],
            "type": "surface"
           }
          ],
          "table": [
           {
            "cells": {
             "fill": {
              "color": "#EBF0F8"
             },
             "line": {
              "color": "white"
             }
            },
            "header": {
             "fill": {
              "color": "#C8D4E3"
             },
             "line": {
              "color": "white"
             }
            },
            "type": "table"
           }
          ]
         },
         "layout": {
          "annotationdefaults": {
           "arrowcolor": "#2a3f5f",
           "arrowhead": 0,
           "arrowwidth": 1
          },
          "autotypenumbers": "strict",
          "coloraxis": {
           "colorbar": {
            "outlinewidth": 0,
            "ticks": ""
           }
          },
          "colorscale": {
           "diverging": [
            [
             0,
             "#8e0152"
            ],
            [
             0.1,
             "#c51b7d"
            ],
            [
             0.2,
             "#de77ae"
            ],
            [
             0.3,
             "#f1b6da"
            ],
            [
             0.4,
             "#fde0ef"
            ],
            [
             0.5,
             "#f7f7f7"
            ],
            [
             0.6,
             "#e6f5d0"
            ],
            [
             0.7,
             "#b8e186"
            ],
            [
             0.8,
             "#7fbc41"
            ],
            [
             0.9,
             "#4d9221"
            ],
            [
             1,
             "#276419"
            ]
           ],
           "sequential": [
            [
             0,
             "#0d0887"
            ],
            [
             0.1111111111111111,
             "#46039f"
            ],
            [
             0.2222222222222222,
             "#7201a8"
            ],
            [
             0.3333333333333333,
             "#9c179e"
            ],
            [
             0.4444444444444444,
             "#bd3786"
            ],
            [
             0.5555555555555556,
             "#d8576b"
            ],
            [
             0.6666666666666666,
             "#ed7953"
            ],
            [
             0.7777777777777778,
             "#fb9f3a"
            ],
            [
             0.8888888888888888,
             "#fdca26"
            ],
            [
             1,
             "#f0f921"
            ]
           ],
           "sequentialminus": [
            [
             0,
             "#0d0887"
            ],
            [
             0.1111111111111111,
             "#46039f"
            ],
            [
             0.2222222222222222,
             "#7201a8"
            ],
            [
             0.3333333333333333,
             "#9c179e"
            ],
            [
             0.4444444444444444,
             "#bd3786"
            ],
            [
             0.5555555555555556,
             "#d8576b"
            ],
            [
             0.6666666666666666,
             "#ed7953"
            ],
            [
             0.7777777777777778,
             "#fb9f3a"
            ],
            [
             0.8888888888888888,
             "#fdca26"
            ],
            [
             1,
             "#f0f921"
            ]
           ]
          },
          "colorway": [
           "#636efa",
           "#EF553B",
           "#00cc96",
           "#ab63fa",
           "#FFA15A",
           "#19d3f3",
           "#FF6692",
           "#B6E880",
           "#FF97FF",
           "#FECB52"
          ],
          "font": {
           "color": "#2a3f5f"
          },
          "geo": {
           "bgcolor": "white",
           "lakecolor": "white",
           "landcolor": "#E5ECF6",
           "showlakes": true,
           "showland": true,
           "subunitcolor": "white"
          },
          "hoverlabel": {
           "align": "left"
          },
          "hovermode": "closest",
          "mapbox": {
           "style": "light"
          },
          "paper_bgcolor": "white",
          "plot_bgcolor": "#E5ECF6",
          "polar": {
           "angularaxis": {
            "gridcolor": "white",
            "linecolor": "white",
            "ticks": ""
           },
           "bgcolor": "#E5ECF6",
           "radialaxis": {
            "gridcolor": "white",
            "linecolor": "white",
            "ticks": ""
           }
          },
          "scene": {
           "xaxis": {
            "backgroundcolor": "#E5ECF6",
            "gridcolor": "white",
            "gridwidth": 2,
            "linecolor": "white",
            "showbackground": true,
            "ticks": "",
            "zerolinecolor": "white"
           },
           "yaxis": {
            "backgroundcolor": "#E5ECF6",
            "gridcolor": "white",
            "gridwidth": 2,
            "linecolor": "white",
            "showbackground": true,
            "ticks": "",
            "zerolinecolor": "white"
           },
           "zaxis": {
            "backgroundcolor": "#E5ECF6",
            "gridcolor": "white",
            "gridwidth": 2,
            "linecolor": "white",
            "showbackground": true,
            "ticks": "",
            "zerolinecolor": "white"
           }
          },
          "shapedefaults": {
           "line": {
            "color": "#2a3f5f"
           }
          },
          "ternary": {
           "aaxis": {
            "gridcolor": "white",
            "linecolor": "white",
            "ticks": ""
           },
           "baxis": {
            "gridcolor": "white",
            "linecolor": "white",
            "ticks": ""
           },
           "bgcolor": "#E5ECF6",
           "caxis": {
            "gridcolor": "white",
            "linecolor": "white",
            "ticks": ""
           }
          },
          "title": {
           "x": 0.05
          },
          "xaxis": {
           "automargin": true,
           "gridcolor": "white",
           "linecolor": "white",
           "ticks": "",
           "title": {
            "standoff": 15
           },
           "zerolinecolor": "white",
           "zerolinewidth": 2
          },
          "yaxis": {
           "automargin": true,
           "gridcolor": "white",
           "linecolor": "white",
           "ticks": "",
           "title": {
            "standoff": 15
           },
           "zerolinecolor": "white",
           "zerolinewidth": 2
          }
         }
        },
        "width": 1000
       }
      },
      "image/png": "[encoded data removed]",
      "text/html": [
       "<div>                            <div id=\"5e10c5aa-ae6d-438a-a68e-9121d2270003\" class=\"plotly-graph-div\" style=\"height:600px; width:1000px;\"></div>            <script type=\"text/javascript\">                require([\"plotly\"], function(Plotly) {                    window.PLOTLYENV=window.PLOTLYENV || {};                                    if (document.getElementById(\"5e10c5aa-ae6d-438a-a68e-9121d2270003\")) {                    Plotly.newPlot(                        \"5e10c5aa-ae6d-438a-a68e-9121d2270003\",                        [{\"hovertemplate\":\"age=%{x}<br>year=%{y}<br>nodes=%{z}<br>color=%{marker.color}<extra></extra>\",\"legendgroup\":\"\",\"marker\":{\"color\":[1,1,0,1,0,0,1,1,0,1,1,0,1,0,1,1,0,0,1,1,1,1,1,1,1,1,1,0,1,1,1,1,0,1,1,1,1,1,0,1,0,0,1,1,0,0,1,0,1,1,1,1,1,1,1,1,1,1,0,1,1,1,0,1,1,1,1,1,0,0,1,1,0,0,0,1,1,0,1,1,1,1,1,0,1,1,1,1,0,1,1,1,0,0,1,1,1,1,1,0,1,1,0,1,1,1,1,0,1,1,1,1,1,1,1,1,1,0,0,1,1,0,0,1,1,1,1,1,0,0,1,1,0,1,1,1,0,1,1,0,1,1,1,1,1,1,1,1,1,1,1,1,1,1,1,1,1,1,1,1,1,0,1,0,1,1,1,1,0,1,1,1,1,1,0,1,1,0,1,0,1,0,0,1,1,1,1,1,1,0,0,0,1,1,1,1,1,0,1,0,1,1,1,1,1,1,1,1,1,1,1,1,1,1,1,0,1,1,0,1,0,1,1,1,1,1,1,1,1,1,1,1,1,1,1,1,1,1,1,1,1,1,1,1,0,0,0,0,0,0,0,0,0,0,0,0,0,0,0,0,0,0,0,0,0,0,0,0,0,0,0,0,0,0,0,0,0,0,0,0,0,0,0,0,0,0,0,0,0,0,0,0,0,0,0,0,0,0,0,0,0,0,0,0,0,0,0,0,0,0,0,0,0,0,0,0,0,0,0,0,0,0,0,0,0,0,0,0,0,0,0,0,0,0,0,0,0,0,0,0,0,0,0,0,0,0,0,0,0,0,0,0,0,0,0,0,0,0,0,0,0,0,0,0,0,0,0,0,0,0,0,0,0,0,0,0],\"coloraxis\":\"coloraxis\",\"symbol\":\"circle\"},\"mode\":\"markers\",\"name\":\"\",\"scene\":\"scene\",\"showlegend\":false,\"type\":\"scatter3d\",\"x\":[64,50,44,67,53,47,53,60,74,70,47,62,38,48,37,41,70,62,55,38,52,65,39,50,54,61,52,55,58,70,58,55,51,63,44,52,60,62,56,70,41,52,64,57,53,54,57,42,67,37,54,44,54,42,43,74,64,59,72,55,60,55,54,38,45,59,59,49,51,70,48,36,44,48,67,61,31,47,54,42,43,52,58,53,69,40,63,34,48,59,31,53,50,38,38,44,69,58,37,65,72,66,45,41,30,63,47,56,45,34,61,42,40,35,52,41,59,63,65,49,73,43,57,61,50,59,56,59,41,49,51,57,61,52,48,64,47,60,46,59,53,39,54,48,30,46,68,46,76,65,75,43,41,41,45,77,51,57,37,55,52,52,44,55,47,57,50,66,78,56,33,43,57,45,54,49,51,65,68,52,65,46,45,70,34,49,47,39,42,54,61,43,30,49,66,40,47,66,39,42,65,50,38,55,53,52,62,57,38,38,50,55,69,67,52,69,54,47,57,62,49,65,43,38,53,72,54,72,39,56,45,43,45,71,62,67,58,34,56,63,56,49,41,54,41,41,45,44,42,42,38,48,70,51,41,41,41,70,41,41,52,47,47,38,41,44,41,53,44,48,53,41,48,44,41,41,41,48,70,41,44,44,41,41,70,41,45,70,70,48,38,42,47,48,42,41,45,47,41,41,41,41,44,52,52,44,44,41,45,48,47,41,47,53,70,44,44,48,41,47,47,38,44,41,47,44,41,44,44,38,44,48,41,45,52,48,44,41,44,70,44,41,47,42,52,41,47,41,48,70,44,41,41,70,53,45,51,44,70,48,44,41,44,41,48,52,44,70,41,41,52,44,45,42,52,48],\"y\":[66,63,64,65,65,62,60,61,65,59,58,65,64,58,58,58,58,58,69,60,64,67,58,66,59,65,60,68,58,68,58,69,59,63,61,62,61,62,66,66,64,62,65,64,65,60,64,59,66,60,62,67,69,60,65,63,61,60,63,67,67,58,65,67,60,64,63,66,59,58,61,60,63,67,64,68,65,63,62,63,64,61,60,63,66,58,61,60,58,64,59,63,64,69,66,63,60,59,63,62,67,58,65,65,65,61,60,65,64,60,64,61,58,64,68,69,67,60,61,67,68,58,62,59,58,64,66,64,60,63,64,64,62,60,64,68,65,64,62,62,58,67,58,66,64,58,68,63,67,64,62,60,64,59,59,65,66,67,63,66,69,59,61,63,63,63,59,68,65,60,60,64,62,67,68,63,65,66,67,69,58,62,67,67,61,60,67,63,59,65,68,64,62,62,58,65,68,58,59,69,64,61,62,58,60,62,58,61,66,60,61,66,65,66,63,67,63,61,61,66,64,59,66,59,61,64,67,58,63,66,67,63,68,68,66,61,67,58,67,61,60,62,59,60,63,64,67,63,65,65,58,68,58,59,63,63,63,58,63,63,62,65,58,58,63,65,63,63,65,58,63,63,68,62,63,63,63,58,58,64,63,63,63,63,58,63,65,58,58,58,58,58,65,68,58,64,67,62,63,63,63,63,63,62,62,63,63,63,67,58,58,63,62,63,58,65,63,65,64,65,65,58,63,63,58,63,63,65,63,58,63,58,63,67,62,65,62,63,65,58,65,64,62,65,62,63,62,63,58,58,62,63,63,58,63,67,59,65,58,58,63,63,63,64,58,62,63,58,63,63,62,65,65,65,62,65],\"z\":[0,1,6,0,1,0,2,25,3,8,3,19,1,11,0,0,4,0,3,0,0,0,0,1,7,8,5,15,0,0,3,22,3,0,0,1,1,6,3,14,0,3,22,9,12,11,0,0,0,0,0,16,7,1,0,0,0,0,0,1,2,1,23,5,0,1,0,0,13,0,8,1,19,7,8,0,4,23,0,1,2,0,3,24,0,2,28,0,11,4,2,0,0,21,0,1,0,0,0,22,3,1,6,0,0,0,4,9,0,1,0,4,0,13,0,8,3,1,2,1,0,52,14,0,1,0,1,7,23,0,7,0,5,4,0,0,0,0,0,35,1,0,1,0,1,3,0,0,0,0,1,0,0,0,14,3,1,0,0,0,0,2,0,6,6,0,2,0,1,0,0,3,0,0,7,3,0,15,0,3,0,5,1,0,10,1,0,0,2,5,1,0,3,1,0,0,4,0,2,1,0,0,3,0,1,0,0,0,11,1,6,18,0,0,4,8,19,0,5,0,10,2,4,2,1,0,46,0,4,2,1,2,0,2,0,0,0,30,0,9,0,0,8,3,15,0,1,6,1,1,23,3,0,3,0,0,15,0,15,15,3,0,0,23,15,5,15,23,5,11,23,23,3,5,0,0,0,11,0,0,6,6,15,15,0,0,5,0,0,11,23,0,0,3,0,0,1,0,15,15,0,0,6,3,3,6,6,0,1,11,0,0,0,23,0,5,6,1,0,0,0,23,6,15,0,6,0,5,6,23,6,11,15,1,3,1,5,0,5,0,5,0,0,1,3,0,0,0,11,0,5,15,15,0,23,1,3,5,0,11,6,15,6,0,11,3,6,0,0,0,3,5,5,1,3,1]}],                        {\"coloraxis\":{\"colorbar\":{\"title\":{\"text\":\"color\"}},\"colorscale\":[[0.0,\"#0d0887\"],[0.1111111111111111,\"#46039f\"],[0.2222222222222222,\"#7201a8\"],[0.3333333333333333,\"#9c179e\"],[0.4444444444444444,\"#bd3786\"],[0.5555555555555556,\"#d8576b\"],[0.6666666666666666,\"#ed7953\"],[0.7777777777777778,\"#fb9f3a\"],[0.8888888888888888,\"#fdca26\"],[1.0,\"#f0f921\"]]},\"height\":600,\"legend\":{\"tracegroupgap\":0},\"margin\":{\"t\":60},\"scene\":{\"domain\":{\"x\":[0.0,1.0],\"y\":[0.0,1.0]},\"xaxis\":{\"title\":{\"text\":\"age\"}},\"yaxis\":{\"title\":{\"text\":\"year\"}},\"zaxis\":{\"title\":{\"text\":\"nodes\"}}},\"template\":{\"data\":{\"bar\":[{\"error_x\":{\"color\":\"#2a3f5f\"},\"error_y\":{\"color\":\"#2a3f5f\"},\"marker\":{\"line\":{\"color\":\"#E5ECF6\",\"width\":0.5},\"pattern\":{\"fillmode\":\"overlay\",\"size\":10,\"solidity\":0.2}},\"type\":\"bar\"}],\"barpolar\":[{\"marker\":{\"line\":{\"color\":\"#E5ECF6\",\"width\":0.5},\"pattern\":{\"fillmode\":\"overlay\",\"size\":10,\"solidity\":0.2}},\"type\":\"barpolar\"}],\"carpet\":[{\"aaxis\":{\"endlinecolor\":\"#2a3f5f\",\"gridcolor\":\"white\",\"linecolor\":\"white\",\"minorgridcolor\":\"white\",\"startlinecolor\":\"#2a3f5f\"},\"baxis\":{\"endlinecolor\":\"#2a3f5f\",\"gridcolor\":\"white\",\"linecolor\":\"white\",\"minorgridcolor\":\"white\",\"startlinecolor\":\"#2a3f5f\"},\"type\":\"carpet\"}],\"choropleth\":[{\"colorbar\":{\"outlinewidth\":0,\"ticks\":\"\"},\"type\":\"choropleth\"}],\"contour\":[{\"colorbar\":{\"outlinewidth\":0,\"ticks\":\"\"},\"colorscale\":[[0.0,\"#0d0887\"],[0.1111111111111111,\"#46039f\"],[0.2222222222222222,\"#7201a8\"],[0.3333333333333333,\"#9c179e\"],[0.4444444444444444,\"#bd3786\"],[0.5555555555555556,\"#d8576b\"],[0.6666666666666666,\"#ed7953\"],[0.7777777777777778,\"#fb9f3a\"],[0.8888888888888888,\"#fdca26\"],[1.0,\"#f0f921\"]],\"type\":\"contour\"}],\"contourcarpet\":[{\"colorbar\":{\"outlinewidth\":0,\"ticks\":\"\"},\"type\":\"contourcarpet\"}],\"heatmap\":[{\"colorbar\":{\"outlinewidth\":0,\"ticks\":\"\"},\"colorscale\":[[0.0,\"#0d0887\"],[0.1111111111111111,\"#46039f\"],[0.2222222222222222,\"#7201a8\"],[0.3333333333333333,\"#9c179e\"],[0.4444444444444444,\"#bd3786\"],[0.5555555555555556,\"#d8576b\"],[0.6666666666666666,\"#ed7953\"],[0.7777777777777778,\"#fb9f3a\"],[0.8888888888888888,\"#fdca26\"],[1.0,\"#f0f921\"]],\"type\":\"heatmap\"}],\"heatmapgl\":[{\"colorbar\":{\"outlinewidth\":0,\"ticks\":\"\"},\"colorscale\":[[0.0,\"#0d0887\"],[0.1111111111111111,\"#46039f\"],[0.2222222222222222,\"#7201a8\"],[0.3333333333333333,\"#9c179e\"],[0.4444444444444444,\"#bd3786\"],[0.5555555555555556,\"#d8576b\"],[0.6666666666666666,\"#ed7953\"],[0.7777777777777778,\"#fb9f3a\"],[0.8888888888888888,\"#fdca26\"],[1.0,\"#f0f921\"]],\"type\":\"heatmapgl\"}],\"histogram\":[{\"marker\":{\"pattern\":{\"fillmode\":\"overlay\",\"size\":10,\"solidity\":0.2}},\"type\":\"histogram\"}],\"histogram2d\":[{\"colorbar\":{\"outlinewidth\":0,\"ticks\":\"\"},\"colorscale\":[[0.0,\"#0d0887\"],[0.1111111111111111,\"#46039f\"],[0.2222222222222222,\"#7201a8\"],[0.3333333333333333,\"#9c179e\"],[0.4444444444444444,\"#bd3786\"],[0.5555555555555556,\"#d8576b\"],[0.6666666666666666,\"#ed7953\"],[0.7777777777777778,\"#fb9f3a\"],[0.8888888888888888,\"#fdca26\"],[1.0,\"#f0f921\"]],\"type\":\"histogram2d\"}],\"histogram2dcontour\":[{\"colorbar\":{\"outlinewidth\":0,\"ticks\":\"\"},\"colorscale\":[[0.0,\"#0d0887\"],[0.1111111111111111,\"#46039f\"],[0.2222222222222222,\"#7201a8\"],[0.3333333333333333,\"#9c179e\"],[0.4444444444444444,\"#bd3786\"],[0.5555555555555556,\"#d8576b\"],[0.6666666666666666,\"#ed7953\"],[0.7777777777777778,\"#fb9f3a\"],[0.8888888888888888,\"#fdca26\"],[1.0,\"#f0f921\"]],\"type\":\"histogram2dcontour\"}],\"mesh3d\":[{\"colorbar\":{\"outlinewidth\":0,\"ticks\":\"\"},\"type\":\"mesh3d\"}],\"parcoords\":[{\"line\":{\"colorbar\":{\"outlinewidth\":0,\"ticks\":\"\"}},\"type\":\"parcoords\"}],\"pie\":[{\"automargin\":true,\"type\":\"pie\"}],\"scatter\":[{\"marker\":{\"colorbar\":{\"outlinewidth\":0,\"ticks\":\"\"}},\"type\":\"scatter\"}],\"scatter3d\":[{\"line\":{\"colorbar\":{\"outlinewidth\":0,\"ticks\":\"\"}},\"marker\":{\"colorbar\":{\"outlinewidth\":0,\"ticks\":\"\"}},\"type\":\"scatter3d\"}],\"scattercarpet\":[{\"marker\":{\"colorbar\":{\"outlinewidth\":0,\"ticks\":\"\"}},\"type\":\"scattercarpet\"}],\"scattergeo\":[{\"marker\":{\"colorbar\":{\"outlinewidth\":0,\"ticks\":\"\"}},\"type\":\"scattergeo\"}],\"scattergl\":[{\"marker\":{\"colorbar\":{\"outlinewidth\":0,\"ticks\":\"\"}},\"type\":\"scattergl\"}],\"scattermapbox\":[{\"marker\":{\"colorbar\":{\"outlinewidth\":0,\"ticks\":\"\"}},\"type\":\"scattermapbox\"}],\"scatterpolar\":[{\"marker\":{\"colorbar\":{\"outlinewidth\":0,\"ticks\":\"\"}},\"type\":\"scatterpolar\"}],\"scatterpolargl\":[{\"marker\":{\"colorbar\":{\"outlinewidth\":0,\"ticks\":\"\"}},\"type\":\"scatterpolargl\"}],\"scatterternary\":[{\"marker\":{\"colorbar\":{\"outlinewidth\":0,\"ticks\":\"\"}},\"type\":\"scatterternary\"}],\"surface\":[{\"colorbar\":{\"outlinewidth\":0,\"ticks\":\"\"},\"colorscale\":[[0.0,\"#0d0887\"],[0.1111111111111111,\"#46039f\"],[0.2222222222222222,\"#7201a8\"],[0.3333333333333333,\"#9c179e\"],[0.4444444444444444,\"#bd3786\"],[0.5555555555555556,\"#d8576b\"],[0.6666666666666666,\"#ed7953\"],[0.7777777777777778,\"#fb9f3a\"],[0.8888888888888888,\"#fdca26\"],[1.0,\"#f0f921\"]],\"type\":\"surface\"}],\"table\":[{\"cells\":{\"fill\":{\"color\":\"#EBF0F8\"},\"line\":{\"color\":\"white\"}},\"header\":{\"fill\":{\"color\":\"#C8D4E3\"},\"line\":{\"color\":\"white\"}},\"type\":\"table\"}]},\"layout\":{\"annotationdefaults\":{\"arrowcolor\":\"#2a3f5f\",\"arrowhead\":0,\"arrowwidth\":1},\"autotypenumbers\":\"strict\",\"coloraxis\":{\"colorbar\":{\"outlinewidth\":0,\"ticks\":\"\"}},\"colorscale\":{\"diverging\":[[0,\"#8e0152\"],[0.1,\"#c51b7d\"],[0.2,\"#de77ae\"],[0.3,\"#f1b6da\"],[0.4,\"#fde0ef\"],[0.5,\"#f7f7f7\"],[0.6,\"#e6f5d0\"],[0.7,\"#b8e186\"],[0.8,\"#7fbc41\"],[0.9,\"#4d9221\"],[1,\"#276419\"]],\"sequential\":[[0.0,\"#0d0887\"],[0.1111111111111111,\"#46039f\"],[0.2222222222222222,\"#7201a8\"],[0.3333333333333333,\"#9c179e\"],[0.4444444444444444,\"#bd3786\"],[0.5555555555555556,\"#d8576b\"],[0.6666666666666666,\"#ed7953\"],[0.7777777777777778,\"#fb9f3a\"],[0.8888888888888888,\"#fdca26\"],[1.0,\"#f0f921\"]],\"sequentialminus\":[[0.0,\"#0d0887\"],[0.1111111111111111,\"#46039f\"],[0.2222222222222222,\"#7201a8\"],[0.3333333333333333,\"#9c179e\"],[0.4444444444444444,\"#bd3786\"],[0.5555555555555556,\"#d8576b\"],[0.6666666666666666,\"#ed7953\"],[0.7777777777777778,\"#fb9f3a\"],[0.8888888888888888,\"#fdca26\"],[1.0,\"#f0f921\"]]},\"colorway\":[\"#636efa\",\"#EF553B\",\"#00cc96\",\"#ab63fa\",\"#FFA15A\",\"#19d3f3\",\"#FF6692\",\"#B6E880\",\"#FF97FF\",\"#FECB52\"],\"font\":{\"color\":\"#2a3f5f\"},\"geo\":{\"bgcolor\":\"white\",\"lakecolor\":\"white\",\"landcolor\":\"#E5ECF6\",\"showlakes\":true,\"showland\":true,\"subunitcolor\":\"white\"},\"hoverlabel\":{\"align\":\"left\"},\"hovermode\":\"closest\",\"mapbox\":{\"style\":\"light\"},\"paper_bgcolor\":\"white\",\"plot_bgcolor\":\"#E5ECF6\",\"polar\":{\"angularaxis\":{\"gridcolor\":\"white\",\"linecolor\":\"white\",\"ticks\":\"\"},\"bgcolor\":\"#E5ECF6\",\"radialaxis\":{\"gridcolor\":\"white\",\"linecolor\":\"white\",\"ticks\":\"\"}},\"scene\":{\"xaxis\":{\"backgroundcolor\":\"#E5ECF6\",\"gridcolor\":\"white\",\"gridwidth\":2,\"linecolor\":\"white\",\"showbackground\":true,\"ticks\":\"\",\"zerolinecolor\":\"white\"},\"yaxis\":{\"backgroundcolor\":\"#E5ECF6\",\"gridcolor\":\"white\",\"gridwidth\":2,\"linecolor\":\"white\",\"showbackground\":true,\"ticks\":\"\",\"zerolinecolor\":\"white\"},\"zaxis\":{\"backgroundcolor\":\"#E5ECF6\",\"gridcolor\":\"white\",\"gridwidth\":2,\"linecolor\":\"white\",\"showbackground\":true,\"ticks\":\"\",\"zerolinecolor\":\"white\"}},\"shapedefaults\":{\"line\":{\"color\":\"#2a3f5f\"}},\"ternary\":{\"aaxis\":{\"gridcolor\":\"white\",\"linecolor\":\"white\",\"ticks\":\"\"},\"baxis\":{\"gridcolor\":\"white\",\"linecolor\":\"white\",\"ticks\":\"\"},\"bgcolor\":\"#E5ECF6\",\"caxis\":{\"gridcolor\":\"white\",\"linecolor\":\"white\",\"ticks\":\"\"}},\"title\":{\"x\":0.05},\"xaxis\":{\"automargin\":true,\"gridcolor\":\"white\",\"linecolor\":\"white\",\"ticks\":\"\",\"title\":{\"standoff\":15},\"zerolinecolor\":\"white\",\"zerolinewidth\":2},\"yaxis\":{\"automargin\":true,\"gridcolor\":\"white\",\"linecolor\":\"white\",\"ticks\":\"\",\"title\":{\"standoff\":15},\"zerolinecolor\":\"white\",\"zerolinewidth\":2}}},\"width\":1000},                        {\"responsive\": true}                    ).then(function(){\n",
       "                            \n",
       "var gd = document.getElementById('5e10c5aa-ae6d-438a-a68e-9121d2270003');\n",
       "var x = new MutationObserver(function (mutations, observer) {{\n",
       "        var display = window.getComputedStyle(gd).display;\n",
       "        if (!display || display === 'none') {{\n",
       "            console.log([gd, 'removed!']);\n",
       "            Plotly.purge(gd);\n",
       "            observer.disconnect();\n",
       "        }}\n",
       "}});\n",
       "\n",
       "// Listen for the removal of the full notebook cells\n",
       "var notebookContainer = gd.closest('#notebook-container');\n",
       "if (notebookContainer) {{\n",
       "    x.observe(notebookContainer, {childList: true});\n",
       "}}\n",
       "\n",
       "// Listen for the clearing of the current output cell\n",
       "var outputEl = gd.closest('.output');\n",
       "if (outputEl) {{\n",
       "    x.observe(outputEl, {childList: true});\n",
       "}}\n",
       "\n",
       "                        })                };                });            </script>        </div>"
      ]
     },
     "metadata": {},
     "output_type": "display_data"
    }
   ],
   "source": [
    "fig = px.scatter_3d(X_SMOTEN, x='age', y='year', z='nodes',\n",
    "              color=y_SMOTEN,width=1000,height=600,size_max=2)\n",
    "fig.show()"
   ]
  },
  {
   "cell_type": "markdown",
   "metadata": {},
   "source": [
    "##### Logistic"
   ]
  },
  {
   "cell_type": "code",
   "execution_count": 15,
   "metadata": {},
   "outputs": [],
   "source": [
    "# Xtest = test.loc[:, train.columns != \"survival\"]\n",
    "# ytest = test[\"survival\"]\n",
    "\n",
    "# import statsmodels.api as sm\n",
    "# import pandas as pd\n",
    " \n",
    "# # defining the dependent and independent variables\n",
    "# Xtrain = train.loc[:, train.columns != \"survival\"]\n",
    "# ytrain = train[\"survival\"]\n",
    "  \n",
    "# # building the model and fitting the data\n",
    "# log_reg = sm.Logit(ytrain, Xtrain).fit();\n",
    "\n",
    "# # performing predictions on the test datdaset\n",
    "# yhat = log_reg.predict(Xtest)\n",
    "# prediction = list(map(round, yhat))\n",
    " \n",
    "# # comparing original and predicted values of y\n",
    "# print('Actual values', list(ytest.values))\n",
    "# print('Predictions :', prediction)"
   ]
  },
  {
   "cell_type": "code",
   "execution_count": 16,
   "metadata": {},
   "outputs": [],
   "source": [
    "# from sklearn.linear_model import LogisticRegression\n",
    "# from sklearn.metrics import roc_auc_score,roc_curve, auc\n",
    "\n",
    "# clf_LogisticRegression = LogisticRegression(random_state=0).fit(Xtrain, ytrain)\n",
    "# y_score = clf_LogisticRegression.decision_function(Xtest)\n",
    "# pred_prob1 = clf_LogisticRegression.predict_proba(Xtest)\n",
    "\n"
   ]
  },
  {
   "cell_type": "code",
   "execution_count": 17,
   "metadata": {},
   "outputs": [],
   "source": [
    "# y_score = clf.decision_function(Xtest)\n",
    "# pred_prob1 = clf.predict_proba(Xtest)\n",
    "# # roc curve for models\n",
    "# fpr1, tpr1, thresh1 = roc_curve(ytest, pred_prob1[:,1], pos_label=1)\n",
    "# # fpr2, tpr2, thresh2 = roc_curve(ytest, pred_prob2[:,1], pos_label=1)\n",
    "\n",
    "# # roc curve for tpr = fpr \n",
    "# random_probs = [0 for i in range(len(ytest))]\n",
    "# p_fpr, p_tpr, _ = roc_curve(ytest, random_probs, pos_label=1)\n",
    "\n",
    "# # auc scores\n",
    "# auc_score1 = roc_auc_score(ytest, pred_prob1[:,1])\n",
    "# # auc_score2 = roc_auc_score(ytest, pred_prob2[:,1])\n",
    "\n",
    "# print(\"Auc score Logistic Regression:\", auc_score1)"
   ]
  },
  {
   "cell_type": "code",
   "execution_count": 18,
   "metadata": {},
   "outputs": [],
   "source": [
    "# # matplotlib\n",
    "# import matplotlib.pyplot as plt\n",
    "# plt.style.use('seaborn')\n",
    "\n",
    "# # plot roc curves\n",
    "# plt.plot(fpr1, tpr1, linestyle='--',color='orange', label='Logistic Regression')\n",
    "# # plt.plot(fpr2, tpr2, linestyle='--',color='green', label='KNN')\n",
    "# plt.plot(p_fpr, p_tpr, linestyle='--', color='blue')\n",
    "# # title\n",
    "# plt.title('ROC curve')\n",
    "# # x label\n",
    "# plt.xlabel('False Positive Rate')\n",
    "# # y label\n",
    "# plt.ylabel('True Positive rate')\n",
    "\n",
    "# plt.legend(loc='best')\n",
    "# # plt.savefig('ROC',dpi=300)\n",
    "# plt.show();"
   ]
  }
 ],
 "metadata": {
  "kernelspec": {
   "display_name": "Python 3",
   "language": "python",
   "name": "python3"
  },
  "language_info": {
   "codemirror_mode": {
    "name": "ipython",
    "version": 3
   },
   "file_extension": ".py",
   "mimetype": "text/x-python",
   "name": "python",
   "nbconvert_exporter": "python",
   "pygments_lexer": "ipython3",
   "version": "3.8.8"
  }
 },
 "nbformat": 4,
 "nbformat_minor": 4
}
