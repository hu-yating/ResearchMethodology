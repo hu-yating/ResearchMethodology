{
 "cells": [
  {
   "cell_type": "markdown",
   "metadata": {},
   "source": [
    "# Quantitative exercise\n",
    "By Group 1: Ya Ting Hu & Zhen Tian"
   ]
  },
  {
   "cell_type": "code",
   "execution_count": null,
   "metadata": {},
   "outputs": [],
   "source": [
    "import warnings\n",
    "warnings.filterwarnings(\"ignore\")\n",
    "\n",
    "import numpy as np\n",
    "import pandas as pd\n",
    "import random\n",
    "import collections\n",
    "import io\n",
    "from sklearn.tree import DecisionTreeClassifier\n",
    "\n",
    "from sklearn.metrics import *\n",
    "from imblearn.metrics import *"
   ]
  },
  {
   "cell_type": "code",
   "execution_count": null,
   "metadata": {},
   "outputs": [],
   "source": [
    "random.seed(1234)\n",
    "url = 'https://raw.githubusercontent.com/jbrownlee/Datasets/master/haberman.csv'\n",
    "dataframe = pd.read_csv(url, header=None)\n",
    "dataframe = dataframe.rename(columns={0: \"age\", 1: \"year\", 2:\"nodes\",3:\"survival\"})\n",
    "dataframe[\"survival\"].replace({2:0},inplace=True)\n",
    "values = dataframe.values\n",
    "X, y = values[:, :-1], values[:, -1]\n",
    "\n",
    "report_total = pd.DataFrame()"
   ]
  },
  {
   "cell_type": "code",
   "execution_count": null,
   "metadata": {
    "tags": []
   },
   "outputs": [],
   "source": [
    "def sample_class_dist(X, y, method=False, strategy=False, verbose=False):\n",
    "    global report_total\n",
    "    \n",
    "    n_rows = X.shape[0]\n",
    "    n_cols = X.shape[1]\n",
    "    classes = np.unique(y)\n",
    "    n_classes = len(classes)\n",
    "    if method and strategy:\n",
    "        print(str(\" \" + strategy + \": \"+ method +\" \").center(80, \"=\"))\n",
    "        \n",
    "    \n",
    "    if verbose == True:\n",
    "        print('N Examples: %d' % n_rows)\n",
    "        print('N Inputs: %d' % n_cols)\n",
    "        print('N Classes: %d' % n_classes)\n",
    "        print('Classes: %s' % classes)\n",
    "    print('Class Breakdown:')\n",
    "\n",
    "    breakdown = ''\n",
    "    class_ = {}\n",
    "    for c in classes:\n",
    "        total = len(y[y == c])\n",
    "        ratio = (total / float(len(y))) * 100\n",
    "        class_[str(c)] = total\n",
    "        print(' - Class %s: %d (%.5f%%)' % (str(c), total, ratio))\n",
    "\n",
    "    # ratio of the number of instances from the negative class and the positive class\n",
    "    try:\n",
    "        print(\"Imbalanced ratio (IR): \", round(y.value_counts()[0]/y.value_counts()[1],2))\n",
    "    except:\n",
    "        print(\"Imbalanced ratio (IR): \", round(collections.Counter(y)[1]/collections.Counter(y)[0],2))\n",
    "\n",
    "    if not verbose:\n",
    "        df_sample = pd.DataFrame(\n",
    "        {\n",
    "            \"strategy\": [strategy]*3,\n",
    "            \"method\":   [method]*3,\n",
    "            \"class\":['0', '1', 'avg / total'],\n",
    "            \"count\":[class_[\"0\"], class_[\"1\"], \"\"],\n",
    "            }\n",
    "        )\n",
    "\n",
    "        df_sample.set_index([\"strategy\",\"class\"], inplace=True)\n",
    "\n",
    "        report_total = pd.concat([report_total, df_sample], axis=0)\n",
    "#         display(report_total)"
   ]
  },
  {
   "cell_type": "code",
   "execution_count": null,
   "metadata": {},
   "outputs": [],
   "source": [
    "sample_class_dist(X,y, verbose=True)"
   ]
  },
  {
   "cell_type": "markdown",
   "metadata": {},
   "source": [
    "# Split 80% 20%"
   ]
  },
  {
   "cell_type": "code",
   "execution_count": null,
   "metadata": {},
   "outputs": [],
   "source": [
    "dataframe.head()"
   ]
  },
  {
   "cell_type": "code",
   "execution_count": null,
   "metadata": {},
   "outputs": [],
   "source": [
    "from sklearn.model_selection import train_test_split\n",
    "\n",
    "# defining the dependent and independent variables\n",
    "Xtrain = dataframe.loc[:, dataframe.columns != \"survival\"]\n",
    "ytrain = dataframe[\"survival\"]\n",
    "\n",
    "X_train, X_test, y_train, y_test = train_test_split(Xtrain,ytrain, train_size=0.8, random_state=0)\n",
    "\n",
    "data_dict = {}\n",
    "strategies = []"
   ]
  },
  {
   "cell_type": "markdown",
   "metadata": {},
   "source": [
    "# Original"
   ]
  },
  {
   "cell_type": "code",
   "execution_count": null,
   "metadata": {},
   "outputs": [],
   "source": [
    "strategy = \"Original\"\n",
    "X_Original, y_Original = X_train, y_train\n",
    "strategies.append(strategy)\n",
    "data_dict[strategy] = [X_Original, y_Original]\n",
    "sample_class_dist(X_Original, y_Original, method = \"Original\", strategy = strategy)"
   ]
  },
  {
   "cell_type": "markdown",
   "metadata": {},
   "source": [
    "# Undersampling\n"
   ]
  },
  {
   "cell_type": "code",
   "execution_count": null,
   "metadata": {},
   "outputs": [],
   "source": [
    "from imblearn.under_sampling import RepeatedEditedNearestNeighbours\n",
    "strategy = \"RepeatedEditedNearestNeighbours\"\n",
    "enn = RepeatedEditedNearestNeighbours()\n",
    "X_ENN_UnderSampled, y_ENN_UnnderSampled = enn.fit_resample(X_train, y_train)\n",
    "strategies.append(strategy)\n",
    "data_dict[strategy] = [X_ENN_UnderSampled, y_ENN_UnnderSampled]\n",
    "sample_class_dist(X_ENN_UnderSampled, y_ENN_UnnderSampled, method = \"Undersampling\", strategy = strategy)\n",
    "\n",
    "from imblearn.under_sampling import NeighbourhoodCleaningRule\n",
    "ncr = NeighbourhoodCleaningRule()\n",
    "strategy = \"NeighbourhoodCleaningRule\"\n",
    "strategies.append(strategy)\n",
    "X_NCR_UnderSampled, y_NCR_UnnderSampled = ncr.fit_resample(X_train, y_train)\n",
    "data_dict[strategy] = [X_NCR_UnderSampled, y_NCR_UnnderSampled]\n",
    "\n",
    "sample_class_dist(X_NCR_UnderSampled, y_NCR_UnnderSampled, method = \"Undersampling\", strategy = strategy)"
   ]
  },
  {
   "cell_type": "markdown",
   "metadata": {},
   "source": [
    "# Oversampling"
   ]
  },
  {
   "cell_type": "code",
   "execution_count": null,
   "metadata": {},
   "outputs": [],
   "source": [
    "from imblearn.over_sampling import RandomOverSampler\n",
    "ros = RandomOverSampler(random_state=0)\n",
    "strategy = \"RandomOverSampler\"\n",
    "X_OverSampled, y_OverSampled = ros.fit_resample(X_train, y_train)\n",
    "data_dict[strategy] = [X_OverSampled, y_OverSampled]\n",
    "sample_class_dist(X_OverSampled, y_OverSampled, method = \"Oversampling\", strategy = strategy)\n",
    "\n",
    "from imblearn.over_sampling import SMOTEN\n",
    "sampler = SMOTEN(random_state=0)\n",
    "strategy = \"SMOTEN\"\n",
    "X_SMOTEN, y_SMOTEN = sampler.fit_resample(X_train, y_train)\n",
    "data_dict[strategy] = [X_SMOTEN, y_SMOTEN]\n",
    "sample_class_dist(X_SMOTEN, y_SMOTEN, method = \"Oversampling\", strategy = strategy)\n",
    "\n",
    "from imblearn.over_sampling import BorderlineSMOTE \n",
    "sm = BorderlineSMOTE(random_state=0)\n",
    "strategy = \"BorderlineSMOTE\"\n",
    "X_BSMOTE, y_BSMOTE = sm.fit_resample(X_train, y_train)\n",
    "data_dict[strategy] = [X_BSMOTE, y_BSMOTE]\n",
    "sample_class_dist(X_BSMOTE, y_BSMOTE, method = \"Oversampling\", strategy = strategy)\n",
    "\n",
    "from imblearn.over_sampling import KMeansSMOTE\n",
    "sm = KMeansSMOTE(random_state=0)\n",
    "strategy = \"KMeansSMOTE\"\n",
    "X_KmeansSMOTE, y_KmeansSMOTE = sm.fit_resample(X_train, y_train)\n",
    "data_dict[strategy] = [X_KmeansSMOTE, y_KmeansSMOTE]\n",
    "sample_class_dist(X_KmeansSMOTE, y_KmeansSMOTE, method = \"Oversampling\", strategy = strategy)\n",
    "\n",
    "from imblearn.over_sampling import SVMSMOTE \n",
    "sm = SVMSMOTE(random_state=0)\n",
    "strategy = \"SVMSMOTE\"\n",
    "X_SVMSMOTE, y_SVMSMOTE = sm.fit_resample(X_train, y_train)\n",
    "data_dict[strategy] = [X_SVMSMOTE, y_SVMSMOTE]\n",
    "sample_class_dist(X_SVMSMOTE, y_SVMSMOTE, method = \"Oversampling\", strategy = strategy)"
   ]
  },
  {
   "cell_type": "markdown",
   "metadata": {},
   "source": [
    "# Hybrid"
   ]
  },
  {
   "cell_type": "code",
   "execution_count": null,
   "metadata": {},
   "outputs": [],
   "source": [
    "from imblearn.combine import SMOTEENN\n",
    "smote_enn = SMOTEENN(random_state=0)\n",
    "strategy = \"SMOTEENN\"\n",
    "X_Hybrid_SMOTEENN, y_Hybrid_SMOTEENN = smote_enn.fit_resample(X_train, y_train)\n",
    "data_dict[strategy] = [X_Hybrid_SMOTEENN, y_Hybrid_SMOTEENN]\n",
    "sample_class_dist(X_Hybrid_SMOTEENN, y_Hybrid_SMOTEENN, method = \"Hybrid\", strategy = strategy)"
   ]
  },
  {
   "cell_type": "code",
   "execution_count": null,
   "metadata": {},
   "outputs": [],
   "source": [
    "report_ = pd.DataFrame()\n",
    "for sampling_strategy in data_dict.keys():\n",
    "    clf = DecisionTreeClassifier(random_state=0)\n",
    "    y_pred = clf.fit(data_dict[sampling_strategy][0], data_dict[sampling_strategy][1]).predict(X_test)\n",
    "    \n",
    "    report_str = classification_report_imbalanced(y_test, y_pred)\n",
    "    df_report = pd.read_csv(io.StringIO(report_str),sep=\"      \")\n",
    "    df_report[\"roc_score\"] = roc_auc_score(y_test, clf.predict_proba(X_test)[:, 1])\n",
    "    df_report[\"sampling_strategy\"] = sampling_strategy\n",
    "    df_report.reset_index(inplace=True)\n",
    "    df_report = df_report.rename({\"index\":\"class\"},axis=1)\n",
    "    df_report.set_index([\"sampling_strategy\", \"class\"], inplace=True)\n",
    "#     print(sampling_strategy)\n",
    "#     display(df_report)\n",
    "    report_ = pd.concat([df_report,report_],axis=0)\n",
    "report_total = pd.concat([report_,report_total],axis=1)"
   ]
  },
  {
   "cell_type": "code",
   "execution_count": null,
   "metadata": {},
   "outputs": [],
   "source": [
    "#Text summary of the precision, recall, specificity, geometric mean, and index balanced accuracy    \n",
    "#https://imbalanced-learn.org/stable/references/generated/imblearn.metrics.classification_report_imbalanced.html#imblearn.metrics.classification_report_imbalanced\n",
    "\n",
    "report_total.sort_values(\"roc_score\")"
   ]
  },
  {
   "cell_type": "code",
   "execution_count": null,
   "metadata": {},
   "outputs": [],
   "source": [
    "import plotly.express as px\n",
    "\n",
    "fig = px.scatter_3d(dataframe, x='age', y='year', z='nodes',\n",
    "              color='survival',width=1000,height=600,size_max=2)\n",
    "fig.show()"
   ]
  },
  {
   "cell_type": "markdown",
   "metadata": {},
   "source": [
    "##### Logistic"
   ]
  },
  {
   "cell_type": "code",
   "execution_count": null,
   "metadata": {},
   "outputs": [],
   "source": [
    "# Xtest = test.loc[:, train.columns != \"survival\"]\n",
    "# ytest = test[\"survival\"]\n",
    "\n",
    "# import statsmodels.api as sm\n",
    "# import pandas as pd\n",
    " \n",
    "# # defining the dependent and independent variables\n",
    "# Xtrain = train.loc[:, train.columns != \"survival\"]\n",
    "# ytrain = train[\"survival\"]\n",
    "  \n",
    "# # building the model and fitting the data\n",
    "# log_reg = sm.Logit(ytrain, Xtrain).fit();\n",
    "\n",
    "# # performing predictions on the test datdaset\n",
    "# yhat = log_reg.predict(Xtest)\n",
    "# prediction = list(map(round, yhat))\n",
    " \n",
    "# # comparing original and predicted values of y\n",
    "# print('Actual values', list(ytest.values))\n",
    "# print('Predictions :', prediction)"
   ]
  },
  {
   "cell_type": "code",
   "execution_count": null,
   "metadata": {},
   "outputs": [],
   "source": [
    "# from sklearn.linear_model import LogisticRegression\n",
    "# from sklearn.metrics import roc_auc_score,roc_curve, auc\n",
    "\n",
    "# clf_LogisticRegression = LogisticRegression(random_state=0).fit(Xtrain, ytrain)\n",
    "# y_score = clf_LogisticRegression.decision_function(Xtest)\n",
    "# pred_prob1 = clf_LogisticRegression.predict_proba(Xtest)\n",
    "\n"
   ]
  },
  {
   "cell_type": "code",
   "execution_count": null,
   "metadata": {},
   "outputs": [],
   "source": [
    "# y_score = clf.decision_function(Xtest)\n",
    "# pred_prob1 = clf.predict_proba(Xtest)\n",
    "# # roc curve for models\n",
    "# fpr1, tpr1, thresh1 = roc_curve(ytest, pred_prob1[:,1], pos_label=1)\n",
    "# # fpr2, tpr2, thresh2 = roc_curve(ytest, pred_prob2[:,1], pos_label=1)\n",
    "\n",
    "# # roc curve for tpr = fpr \n",
    "# random_probs = [0 for i in range(len(ytest))]\n",
    "# p_fpr, p_tpr, _ = roc_curve(ytest, random_probs, pos_label=1)\n",
    "\n",
    "# # auc scores\n",
    "# auc_score1 = roc_auc_score(ytest, pred_prob1[:,1])\n",
    "# # auc_score2 = roc_auc_score(ytest, pred_prob2[:,1])\n",
    "\n",
    "# print(\"Auc score Logistic Regression:\", auc_score1)"
   ]
  },
  {
   "cell_type": "code",
   "execution_count": null,
   "metadata": {},
   "outputs": [],
   "source": [
    "# # matplotlib\n",
    "# import matplotlib.pyplot as plt\n",
    "# plt.style.use('seaborn')\n",
    "\n",
    "# # plot roc curves\n",
    "# plt.plot(fpr1, tpr1, linestyle='--',color='orange', label='Logistic Regression')\n",
    "# # plt.plot(fpr2, tpr2, linestyle='--',color='green', label='KNN')\n",
    "# plt.plot(p_fpr, p_tpr, linestyle='--', color='blue')\n",
    "# # title\n",
    "# plt.title('ROC curve')\n",
    "# # x label\n",
    "# plt.xlabel('False Positive Rate')\n",
    "# # y label\n",
    "# plt.ylabel('True Positive rate')\n",
    "\n",
    "# plt.legend(loc='best')\n",
    "# # plt.savefig('ROC',dpi=300)\n",
    "# plt.show();"
   ]
  }
 ],
 "metadata": {
  "kernelspec": {
   "display_name": "Python 3",
   "language": "python",
   "name": "python3"
  },
  "language_info": {
   "codemirror_mode": {
    "name": "ipython",
    "version": 3
   },
   "file_extension": ".py",
   "mimetype": "text/x-python",
   "name": "python",
   "nbconvert_exporter": "python",
   "pygments_lexer": "ipython3",
   "version": "3.8.8"
  }
 },
 "nbformat": 4,
 "nbformat_minor": 4
}
